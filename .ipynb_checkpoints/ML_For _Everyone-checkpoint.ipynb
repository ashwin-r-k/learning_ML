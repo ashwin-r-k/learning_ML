{
 "cells": [
  {
   "cell_type": "markdown",
   "id": "626e9df2",
   "metadata": {
    "colab_type": "text",
    "id": "view-in-github"
   },
   "source": [
    "<a href=\"https://colab.research.google.com/github/ashwin-r-k/learning_ML/blob/master/mlfe.ipynb\" target=\"_parent\"><img src=\"https://colab.research.google.com/assets/colab-badge.svg\" alt=\"Open In Colab\"/></a>"
   ]
  },
  {
   "cell_type": "code",
   "execution_count": 1,
   "id": "07cc06ae",
   "metadata": {
    "id": "07cc06ae"
   },
   "outputs": [],
   "source": [
    "import numpy as np\n",
    "import pandas as pd\n",
    "from matplotlib import pyplot as plt\n",
    "from sklearn.preprocessing import StandardScaler"
   ]
  },
  {
   "cell_type": "code",
   "execution_count": 3,
   "id": "3Aa91ADCs3Sx",
   "metadata": {
    "colab": {
     "base_uri": "https://localhost:8080/"
    },
    "id": "3Aa91ADCs3Sx",
    "outputId": "75500903-70fb-41df-91b9-2c91d46621b3"
   },
   "outputs": [
    {
     "name": "stdout",
     "output_type": "stream",
     "text": [
      "--2023-12-22 04:32:41--  https://raw.githubusercontent.com/ashwin-r-k/learning_ML/master/magic04.data\n",
      "Resolving raw.githubusercontent.com (raw.githubusercontent.com)... 185.199.108.133, 185.199.109.133, 185.199.110.133, ...\n",
      "Connecting to raw.githubusercontent.com (raw.githubusercontent.com)|185.199.108.133|:443... connected.\n",
      "HTTP request sent, awaiting response... 200 OK\n",
      "Length: 1477391 (1.4M) [text/plain]\n",
      "Saving to: ‘magic04.data’\n",
      "\n",
      "magic04.data        100%[===================>]   1.41M  --.-KB/s    in 0.03s   \n",
      "\n",
      "2023-12-22 04:32:41 (53.7 MB/s) - ‘magic04.data’ saved [1477391/1477391]\n",
      "\n"
     ]
    }
   ],
   "source": [
    " !wget https://raw.githubusercontent.com/ashwin-r-k/learning_ML/master/magic04.data"
   ]
  },
  {
   "cell_type": "code",
   "execution_count": 2,
   "id": "cd6c0654",
   "metadata": {
    "id": "cd6c0654"
   },
   "outputs": [],
   "source": [
    "from imblearn.over_sampling import RandomOverSampler"
   ]
  },
  {
   "cell_type": "code",
   "execution_count": 3,
   "id": "b96fc895",
   "metadata": {
    "id": "b96fc895"
   },
   "outputs": [],
   "source": [
    "cols = [\"fLength\",\"fWidth\",\"fSize\", \"fConc\", \"fConcl\", \"fAsym\", \"fMllong\", \"fX3Trans\", \"fAlpha\",  \"fDist\", \"class\"]\n",
    "df = pd.read_csv(\"magic04.data\",names=cols)"
   ]
  },
  {
   "cell_type": "code",
   "execution_count": 4,
   "id": "c9fce11f",
   "metadata": {
    "id": "c9fce11f"
   },
   "outputs": [],
   "source": [
    "df[\"class\"] = (df[\"class\"]==\"g\").astype(int)"
   ]
  },
  {
   "cell_type": "code",
   "execution_count": 5,
   "id": "d53406e6",
   "metadata": {
    "colab": {
     "base_uri": "https://localhost:8080/"
    },
    "id": "d53406e6",
    "outputId": "d8441b42-792a-4b4f-b2ac-63a416cd7b42"
   },
   "outputs": [
    {
     "name": "stdout",
     "output_type": "stream",
     "text": [
      "        fLength    fWidth   fSize   fConc  fConcl     fAsym   fMllong  \\\n",
      "0       28.7967   16.0021  2.6449  0.3918  0.1982   27.7004   22.0110   \n",
      "1       31.6036   11.7235  2.5185  0.5303  0.3773   26.2722   23.8238   \n",
      "2      162.0520  136.0310  4.0612  0.0374  0.0187  116.7410  -64.8580   \n",
      "3       23.8172    9.5728  2.3385  0.6147  0.3922   27.2107   -6.4633   \n",
      "4       75.1362   30.9205  3.1611  0.3168  0.1832   -5.5277   28.5525   \n",
      "...         ...       ...     ...     ...     ...       ...       ...   \n",
      "19015   21.3846   10.9170  2.6161  0.5857  0.3934   15.2618   11.5245   \n",
      "19016   28.9452    6.7020  2.2672  0.5351  0.2784   37.0816   13.1853   \n",
      "19017   75.4455   47.5305  3.4483  0.1417  0.0549   -9.3561   41.0562   \n",
      "19018  120.5135   76.9018  3.9939  0.0944  0.0683    5.8043  -93.5224   \n",
      "19019  187.1814   53.0014  3.2093  0.2876  0.1539 -167.3125 -168.4558   \n",
      "\n",
      "       fX3Trans   fAlpha     fDist  class  \n",
      "0       -8.2027  40.0920   81.8828      1  \n",
      "1       -9.9574   6.3609  205.2610      1  \n",
      "2      -45.2160  76.9600  256.7880      1  \n",
      "3       -7.1513  10.4490  116.7370      1  \n",
      "4       21.8393   4.6480  356.4620      1  \n",
      "...         ...      ...       ...    ...  \n",
      "19015    2.8766   2.4229  106.8258      0  \n",
      "19016   -2.9632  86.7975  247.4560      0  \n",
      "19017   -9.4662  30.2987  256.5166      0  \n",
      "19018  -63.8389  84.6874  408.3166      0  \n",
      "19019   31.4755  52.7310  272.3174      0  \n",
      "\n",
      "[19020 rows x 11 columns]\n"
     ]
    }
   ],
   "source": [
    "print(df)"
   ]
  },
  {
   "cell_type": "code",
   "execution_count": 6,
   "id": "765f2345",
   "metadata": {
    "colab": {
     "base_uri": "https://localhost:8080/",
     "height": 206
    },
    "id": "765f2345",
    "outputId": "c6d0f82b-8b3e-4d87-dcc2-e7e5dee6bd30"
   },
   "outputs": [
    {
     "data": {
      "text/html": [
       "<div>\n",
       "<style scoped>\n",
       "    .dataframe tbody tr th:only-of-type {\n",
       "        vertical-align: middle;\n",
       "    }\n",
       "\n",
       "    .dataframe tbody tr th {\n",
       "        vertical-align: top;\n",
       "    }\n",
       "\n",
       "    .dataframe thead th {\n",
       "        text-align: right;\n",
       "    }\n",
       "</style>\n",
       "<table border=\"1\" class=\"dataframe\">\n",
       "  <thead>\n",
       "    <tr style=\"text-align: right;\">\n",
       "      <th></th>\n",
       "      <th>fLength</th>\n",
       "      <th>fWidth</th>\n",
       "      <th>fSize</th>\n",
       "      <th>fConc</th>\n",
       "      <th>fConcl</th>\n",
       "      <th>fAsym</th>\n",
       "      <th>fMllong</th>\n",
       "      <th>fX3Trans</th>\n",
       "      <th>fAlpha</th>\n",
       "      <th>fDist</th>\n",
       "      <th>class</th>\n",
       "    </tr>\n",
       "  </thead>\n",
       "  <tbody>\n",
       "    <tr>\n",
       "      <th>0</th>\n",
       "      <td>28.7967</td>\n",
       "      <td>16.0021</td>\n",
       "      <td>2.6449</td>\n",
       "      <td>0.3918</td>\n",
       "      <td>0.1982</td>\n",
       "      <td>27.7004</td>\n",
       "      <td>22.0110</td>\n",
       "      <td>-8.2027</td>\n",
       "      <td>40.0920</td>\n",
       "      <td>81.8828</td>\n",
       "      <td>1</td>\n",
       "    </tr>\n",
       "    <tr>\n",
       "      <th>1</th>\n",
       "      <td>31.6036</td>\n",
       "      <td>11.7235</td>\n",
       "      <td>2.5185</td>\n",
       "      <td>0.5303</td>\n",
       "      <td>0.3773</td>\n",
       "      <td>26.2722</td>\n",
       "      <td>23.8238</td>\n",
       "      <td>-9.9574</td>\n",
       "      <td>6.3609</td>\n",
       "      <td>205.2610</td>\n",
       "      <td>1</td>\n",
       "    </tr>\n",
       "    <tr>\n",
       "      <th>2</th>\n",
       "      <td>162.0520</td>\n",
       "      <td>136.0310</td>\n",
       "      <td>4.0612</td>\n",
       "      <td>0.0374</td>\n",
       "      <td>0.0187</td>\n",
       "      <td>116.7410</td>\n",
       "      <td>-64.8580</td>\n",
       "      <td>-45.2160</td>\n",
       "      <td>76.9600</td>\n",
       "      <td>256.7880</td>\n",
       "      <td>1</td>\n",
       "    </tr>\n",
       "    <tr>\n",
       "      <th>3</th>\n",
       "      <td>23.8172</td>\n",
       "      <td>9.5728</td>\n",
       "      <td>2.3385</td>\n",
       "      <td>0.6147</td>\n",
       "      <td>0.3922</td>\n",
       "      <td>27.2107</td>\n",
       "      <td>-6.4633</td>\n",
       "      <td>-7.1513</td>\n",
       "      <td>10.4490</td>\n",
       "      <td>116.7370</td>\n",
       "      <td>1</td>\n",
       "    </tr>\n",
       "    <tr>\n",
       "      <th>4</th>\n",
       "      <td>75.1362</td>\n",
       "      <td>30.9205</td>\n",
       "      <td>3.1611</td>\n",
       "      <td>0.3168</td>\n",
       "      <td>0.1832</td>\n",
       "      <td>-5.5277</td>\n",
       "      <td>28.5525</td>\n",
       "      <td>21.8393</td>\n",
       "      <td>4.6480</td>\n",
       "      <td>356.4620</td>\n",
       "      <td>1</td>\n",
       "    </tr>\n",
       "  </tbody>\n",
       "</table>\n",
       "</div>"
      ],
      "text/plain": [
       "    fLength    fWidth   fSize   fConc  fConcl     fAsym  fMllong  fX3Trans  \\\n",
       "0   28.7967   16.0021  2.6449  0.3918  0.1982   27.7004  22.0110   -8.2027   \n",
       "1   31.6036   11.7235  2.5185  0.5303  0.3773   26.2722  23.8238   -9.9574   \n",
       "2  162.0520  136.0310  4.0612  0.0374  0.0187  116.7410 -64.8580  -45.2160   \n",
       "3   23.8172    9.5728  2.3385  0.6147  0.3922   27.2107  -6.4633   -7.1513   \n",
       "4   75.1362   30.9205  3.1611  0.3168  0.1832   -5.5277  28.5525   21.8393   \n",
       "\n",
       "    fAlpha     fDist  class  \n",
       "0  40.0920   81.8828      1  \n",
       "1   6.3609  205.2610      1  \n",
       "2  76.9600  256.7880      1  \n",
       "3  10.4490  116.7370      1  \n",
       "4   4.6480  356.4620      1  "
      ]
     },
     "execution_count": 6,
     "metadata": {},
     "output_type": "execute_result"
    }
   ],
   "source": [
    "df.head()"
   ]
  },
  {
   "cell_type": "code",
   "execution_count": 7,
   "id": "0c94c661",
   "metadata": {
    "colab": {
     "base_uri": "https://localhost:8080/",
     "height": 1000
    },
    "editable": true,
    "id": "0c94c661",
    "outputId": "c9d6f5ae-8da6-4005-894f-0e042b7aeb11",
    "tags": []
   },
   "outputs": [
    {
     "data": {
      "image/png": "[encoded data removed]",
      "text/plain": [
       "<Figure size 640x480 with 1 Axes>"
      ]
     },
     "metadata": {},
     "output_type": "display_data"
    },
    {
     "data": {
      "image/png": "[encoded data removed]",
      "text/plain": [
       "<Figure size 640x480 with 1 Axes>"
      ]
     },
     "metadata": {},
     "output_type": "display_data"
    },
    {
     "data": {
      "image/png": "[encoded data removed]",
      "text/plain": [
       "<Figure size 640x480 with 1 Axes>"
      ]
     },
     "metadata": {},
     "output_type": "display_data"
    },
    {
     "data": {
      "image/png": "[encoded data removed]",
      "text/plain": [
       "<Figure size 640x480 with 1 Axes>"
      ]
     },
     "metadata": {},
     "output_type": "display_data"
    },
    {
     "data": {
      "image/png": "[encoded data removed]",
      "text/plain": [
       "<Figure size 640x480 with 1 Axes>"
      ]
     },
     "metadata": {},
     "output_type": "display_data"
    },
    {
     "data": {
      "image/png": "[encoded data removed]",
      "text/plain": [
       "<Figure size 640x480 with 1 Axes>"
      ]
     },
     "metadata": {},
     "output_type": "display_data"
    },
    {
     "data": {
      "image/png": "[encoded data removed]",
      "text/plain": [
       "<Figure size 640x480 with 1 Axes>"
      ]
     },
     "metadata": {},
     "output_type": "display_data"
    },
    {
     "data": {
      "image/png": "[encoded data removed]",
      "text/plain": [
       "<Figure size 640x480 with 1 Axes>"
      ]
     },
     "metadata": {},
     "output_type": "display_data"
    },
    {
     "data": {
      "image/png": "[encoded data removed]",
      "text/plain": [
       "<Figure size 640x480 with 1 Axes>"
      ]
     },
     "metadata": {},
     "output_type": "display_data"
    },
    {
     "data": {
      "image/png": "[encoded data removed]",
      "text/plain": [
       "<Figure size 640x480 with 1 Axes>"
      ]
     },
     "metadata": {},
     "output_type": "display_data"
    }
   ],
   "source": [
    "for label in cols[:-1]:\n",
    "    plt.hist( df[ df[\"class\"]==1 ][label], color=\"blue\" , label=\"gamma\" , alpha = 0.7,density=True  )\n",
    "    plt.hist( df[ df[\"class\"]==0 ][label], color=\"red\" , label=\"hadron\" , alpha = 0.7,density=True  )\n",
    "    plt.title(label)\n",
    "    plt.xlabel(label)\n",
    "    plt.ylabel(\"probability\")\n",
    "    plt.legend()\n",
    "    plt.show()"
   ]
  },
  {
   "cell_type": "markdown",
   "id": "f2e68d46",
   "metadata": {
    "id": "f2e68d46"
   },
   "source": [
    "# Train, valiition , Test data set.\n"
   ]
  },
  {
   "cell_type": "code",
   "execution_count": 8,
   "id": "6660074f",
   "metadata": {
    "id": "6660074f"
   },
   "outputs": [
    {
     "name": "stderr",
     "output_type": "stream",
     "text": [
      "/home/ashwin/.conda/envs/ml/lib/python3.11/site-packages/numpy/core/fromnumeric.py:57: FutureWarning: 'DataFrame.swapaxes' is deprecated and will be removed in a future version. Please use 'DataFrame.transpose' instead.\n",
      "  return bound(*args, **kwds)\n"
     ]
    }
   ],
   "source": [
    "train, valid, test = np.split( df.sample(frac=1) , [int(0.6*len(df)), int(0.8*len(df)) ] )"
   ]
  },
  {
   "cell_type": "code",
   "execution_count": 9,
   "id": "fdfe6c74",
   "metadata": {
    "colab": {
     "base_uri": "https://localhost:8080/"
    },
    "id": "fdfe6c74",
    "outputId": "cad9524c-6f19-41ea-83d5-686ae20a11b6"
   },
   "outputs": [
    {
     "name": "stdout",
     "output_type": "stream",
     "text": [
      "        fLength   fWidth   fSize   fConc  fConcl    fAsym   fMllong  fX3Trans  \\\n",
      "13729  141.0030  66.9750  3.1455  0.2217  0.1141  92.3030  156.0470   36.4384   \n",
      "5970    32.2216  17.8540  2.8357  0.3182  0.1613  20.0564   16.8922  -13.9134   \n",
      "4428    35.0679  12.2035  2.3314  0.4942  0.2960   1.2236    5.6228   -6.3181   \n",
      "5869    36.4971  18.5960  2.6924  0.3452  0.1898  19.1104   23.7937  -14.7142   \n",
      "5193    20.4089  11.3508  2.3181  0.6010  0.3245  19.5285   19.6055  -10.5022   \n",
      "...         ...      ...     ...     ...     ...      ...       ...       ...   \n",
      "5797    18.7087  16.3364  2.2999  0.4862  0.2431  11.5524   17.6719  -11.0034   \n",
      "1620    34.6640  12.5674  2.6454  0.3914  0.2251  11.6629   28.1683    8.6285   \n",
      "17031  171.0088  60.9908  3.1721  0.2225  0.1214  74.1999  194.6039  -24.1557   \n",
      "17266   25.5669  14.2810  2.5447  0.3880  0.2097 -18.5610   -9.2701    1.9799   \n",
      "1679    24.5394  14.7391  2.6484  0.4854  0.2753  -1.0812   23.3631   -6.8022   \n",
      "\n",
      "        fAlpha     fDist  class  \n",
      "13729  48.6320  156.0060      0  \n",
      "5970   26.4593  197.3410      1  \n",
      "4428    5.9483  157.4630      1  \n",
      "5869    7.4440  184.8670      1  \n",
      "5193   47.0690  275.0330      1  \n",
      "...        ...       ...    ...  \n",
      "5797   73.1630  206.9620      1  \n",
      "1620    0.3188  170.3360      1  \n",
      "17031  49.1810   65.2621      0  \n",
      "17266  85.3588  222.3650      0  \n",
      "1679   10.0304  234.1560      1  \n",
      "\n",
      "[11412 rows x 11 columns]\n"
     ]
    }
   ],
   "source": [
    "# how we have to scale the data to get propper result else it will beprint( not accurete predication\n",
    "print(train)"
   ]
  },
  {
   "cell_type": "code",
   "execution_count": 10,
   "id": "3639a1a3",
   "metadata": {
    "id": "3639a1a3"
   },
   "outputs": [],
   "source": [
    "def scaledataset(dataframe,oversample=False):\n",
    "    X = dataframe[dataframe.columns[:-1]].values\n",
    "    y = dataframe[dataframe.columns[-1]].values\n",
    "\n",
    "    scaler = StandardScaler()\n",
    "    x = scaler.fit_transform(X)\n",
    "\n",
    "    if oversample:\n",
    "      ros = RandomOverSampler()\n",
    "      X, y = ros.fit_resample(X,y)\n",
    "\n",
    "    data = np.hstack((X, np.reshape(y,(-1,1) )))\n",
    "        #-1 means the len(y)\n",
    "    return data, X, y"
   ]
  },
  {
   "cell_type": "code",
   "execution_count": 11,
   "id": "c54d8d3c",
   "metadata": {
    "colab": {
     "base_uri": "https://localhost:8080/"
    },
    "id": "c54d8d3c",
    "outputId": "fd04a530-5dd2-4647-bf11-98597d728a24"
   },
   "outputs": [
    {
     "name": "stdout",
     "output_type": "stream",
     "text": [
      "7429\n",
      "3983\n"
     ]
    }
   ],
   "source": [
    "print(len(train [ train[\"class\"] == 1])) # Gamas\n",
    "print(len(train [ train[\"class\"] == 0])) #Hadrons\n",
    "\n",
    "# So now we have to over sample the data as the numbers of Hadron data is very less"
   ]
  },
  {
   "cell_type": "code",
   "execution_count": 12,
   "id": "a2ed623d",
   "metadata": {
    "id": "a2ed623d"
   },
   "outputs": [],
   "source": [
    "train, X_train, y_train = scaledataset(train,oversample=True)\n",
    "test, x_test, y_test = scaledataset(test,oversample=False)\n",
    "valid, x_valid, y_valid = scaledataset(valid,oversample=False)"
   ]
  },
  {
   "cell_type": "code",
   "execution_count": 24,
   "id": "f3eb2590-f58d-4a46-b65d-d0d9dc746037",
   "metadata": {
    "id": "f3eb2590-f58d-4a46-b65d-d0d9dc746037"
   },
   "outputs": [],
   "source": [
    "# KNN\n",
    "\n",
    "from sklearn.neighbors import KNeighborsClassifier\n",
    "from sklearn.metrics import classification_report\n"
   ]
  },
  {
   "cell_type": "code",
   "execution_count": null,
   "id": "747a5797-75d1-4434-b091-316842204b54",
   "metadata": {
    "colab": {
     "base_uri": "https://localhost:8080/",
     "height": 75
    },
    "id": "747a5797-75d1-4434-b091-316842204b54",
    "outputId": "02cfa9f8-d3b3-4944-d50f-9f44e031508b"
   },
   "outputs": [
    {
     "data": {
      "text/html": [
       "<style>#sk-container-id-1 {color: black;background-color: white;}#sk-container-id-1 pre{padding: 0;}#sk-container-id-1 div.sk-toggleable {background-color: white;}#sk-container-id-1 label.sk-toggleable__label {cursor: pointer;display: block;width: 100%;margin-bottom: 0;padding: 0.3em;box-sizing: border-box;text-align: center;}#sk-container-id-1 label.sk-toggleable__label-arrow:before {content: \"▸\";float: left;margin-right: 0.25em;color: #696969;}#sk-container-id-1 label.sk-toggleable__label-arrow:hover:before {color: black;}#sk-container-id-1 div.sk-estimator:hover label.sk-toggleable__label-arrow:before {color: black;}#sk-container-id-1 div.sk-toggleable__content {max-height: 0;max-width: 0;overflow: hidden;text-align: left;background-color: #f0f8ff;}#sk-container-id-1 div.sk-toggleable__content pre {margin: 0.2em;color: black;border-radius: 0.25em;background-color: #f0f8ff;}#sk-container-id-1 input.sk-toggleable__control:checked~div.sk-toggleable__content {max-height: 200px;max-width: 100%;overflow: auto;}#sk-container-id-1 input.sk-toggleable__control:checked~label.sk-toggleable__label-arrow:before {content: \"▾\";}#sk-container-id-1 div.sk-estimator input.sk-toggleable__control:checked~label.sk-toggleable__label {background-color: #d4ebff;}#sk-container-id-1 div.sk-label input.sk-toggleable__control:checked~label.sk-toggleable__label {background-color: #d4ebff;}#sk-container-id-1 input.sk-hidden--visually {border: 0;clip: rect(1px 1px 1px 1px);clip: rect(1px, 1px, 1px, 1px);height: 1px;margin: -1px;overflow: hidden;padding: 0;position: absolute;width: 1px;}#sk-container-id-1 div.sk-estimator {font-family: monospace;background-color: #f0f8ff;border: 1px dotted black;border-radius: 0.25em;box-sizing: border-box;margin-bottom: 0.5em;}#sk-container-id-1 div.sk-estimator:hover {background-color: #d4ebff;}#sk-container-id-1 div.sk-parallel-item::after {content: \"\";width: 100%;border-bottom: 1px solid gray;flex-grow: 1;}#sk-container-id-1 div.sk-label:hover label.sk-toggleable__label {background-color: #d4ebff;}#sk-container-id-1 div.sk-serial::before {content: \"\";position: absolute;border-left: 1px solid gray;box-sizing: border-box;top: 0;bottom: 0;left: 50%;z-index: 0;}#sk-container-id-1 div.sk-serial {display: flex;flex-direction: column;align-items: center;background-color: white;padding-right: 0.2em;padding-left: 0.2em;position: relative;}#sk-container-id-1 div.sk-item {position: relative;z-index: 1;}#sk-container-id-1 div.sk-parallel {display: flex;align-items: stretch;justify-content: center;background-color: white;position: relative;}#sk-container-id-1 div.sk-item::before, #sk-container-id-1 div.sk-parallel-item::before {content: \"\";position: absolute;border-left: 1px solid gray;box-sizing: border-box;top: 0;bottom: 0;left: 50%;z-index: -1;}#sk-container-id-1 div.sk-parallel-item {display: flex;flex-direction: column;z-index: 1;position: relative;background-color: white;}#sk-container-id-1 div.sk-parallel-item:first-child::after {align-self: flex-end;width: 50%;}#sk-container-id-1 div.sk-parallel-item:last-child::after {align-self: flex-start;width: 50%;}#sk-container-id-1 div.sk-parallel-item:only-child::after {width: 0;}#sk-container-id-1 div.sk-dashed-wrapped {border: 1px dashed gray;margin: 0 0.4em 0.5em 0.4em;box-sizing: border-box;padding-bottom: 0.4em;background-color: white;}#sk-container-id-1 div.sk-label label {font-family: monospace;font-weight: bold;display: inline-block;line-height: 1.2em;}#sk-container-id-1 div.sk-label-container {text-align: center;}#sk-container-id-1 div.sk-container {/* jupyter's `normalize.less` sets `[hidden] { display: none; }` but bootstrap.min.css set `[hidden] { display: none !important; }` so we also need the `!important` here to be able to override the default hidden behavior on the sphinx rendered scikit-learn.org. See: https://github.com/scikit-learn/scikit-learn/issues/21755 */display: inline-block !important;position: relative;}#sk-container-id-1 div.sk-text-repr-fallback {display: none;}</style><div id=\"sk-container-id-1\" class=\"sk-top-container\"><div class=\"sk-text-repr-fallback\"><pre>KNeighborsClassifier()</pre><b>In a Jupyter environment, please rerun this cell to show the HTML representation or trust the notebook. <br />On GitHub, the HTML representation is unable to render, please try loading this page with nbviewer.org.</b></div><div class=\"sk-container\" hidden><div class=\"sk-item\"><div class=\"sk-estimator sk-toggleable\"><input class=\"sk-toggleable__control sk-hidden--visually\" id=\"sk-estimator-id-1\" type=\"checkbox\" checked><label for=\"sk-estimator-id-1\" class=\"sk-toggleable__label sk-toggleable__label-arrow\">KNeighborsClassifier</label><div class=\"sk-toggleable__content\"><pre>KNeighborsClassifier()</pre></div></div></div></div></div>"
      ],
      "text/plain": [
       "KNeighborsClassifier()"
      ]
     },
     "execution_count": 25,
     "metadata": {},
     "output_type": "execute_result"
    }
   ],
   "source": [
    "knn_model = KNeighborsClassifier(n_neighbors=5)\n",
    "knn_model.fit(X_train,y_train)"
   ]
  },
  {
   "cell_type": "code",
   "execution_count": null,
   "id": "babb8501-5790-418e-b875-308307fc46d1",
   "metadata": {
    "id": "babb8501-5790-418e-b875-308307fc46d1"
   },
   "outputs": [],
   "source": [
    "\n",
    "y_predict = knn_model.predict(x_test)\n"
   ]
  },
  {
   "cell_type": "code",
   "execution_count": null,
   "id": "859e67d8-52f1-4cad-a78e-833dd784952e",
   "metadata": {
    "colab": {
     "base_uri": "https://localhost:8080/"
    },
    "id": "859e67d8-52f1-4cad-a78e-833dd784952e",
    "outputId": "12786210-c083-4a42-de7d-48fa980932e9"
   },
   "outputs": [
    {
     "data": {
      "text/plain": [
       "array([0, 0, 1, ..., 0, 1, 0])"
      ]
     },
     "execution_count": 27,
     "metadata": {},
     "output_type": "execute_result"
    }
   ],
   "source": [
    "y_predict"
   ]
  },
  {
   "cell_type": "code",
   "execution_count": null,
   "id": "2cd5fdad-9213-4aa3-8bc1-fcaa64db6d8d",
   "metadata": {
    "colab": {
     "base_uri": "https://localhost:8080/"
    },
    "id": "2cd5fdad-9213-4aa3-8bc1-fcaa64db6d8d",
    "outputId": "85355fbe-0a5a-4789-deaf-6a97a699a685"
   },
   "outputs": [
    {
     "data": {
      "text/plain": [
       "array([0, 0, 1, ..., 0, 0, 1])"
      ]
     },
     "execution_count": 28,
     "metadata": {},
     "output_type": "execute_result"
    }
   ],
   "source": [
    "y_test"
   ]
  },
  {
   "cell_type": "code",
   "execution_count": null,
   "id": "276dad3d-457f-426a-9a1a-34117f3bd9db",
   "metadata": {
    "colab": {
     "base_uri": "https://localhost:8080/"
    },
    "id": "276dad3d-457f-426a-9a1a-34117f3bd9db",
    "outputId": "4620acdb-9e11-40d9-b277-d541619ebff6"
   },
   "outputs": [
    {
     "name": "stdout",
     "output_type": "stream",
     "text": [
      "              precision    recall  f1-score   support\n",
      "\n",
      "           0       0.68      0.71      0.69      1342\n",
      "           1       0.84      0.82      0.83      2462\n",
      "\n",
      "    accuracy                           0.78      3804\n",
      "   macro avg       0.76      0.76      0.76      3804\n",
      "weighted avg       0.78      0.78      0.78      3804\n",
      "\n"
     ]
    }
   ],
   "source": [
    "print(classification_report(y_test,y_predict))"
   ]
  },
  {
   "cell_type": "code",
   "execution_count": null,
   "id": "53876ab0-b92f-4ecb-96d3-0505cc816fb8",
   "metadata": {
    "colab": {
     "base_uri": "https://localhost:8080/"
    },
    "id": "53876ab0-b92f-4ecb-96d3-0505cc816fb8",
    "outputId": "f7e4838b-8a27-4108-83e5-bb106c9a0a63"
   },
   "outputs": [
    {
     "name": "stdout",
     "output_type": "stream",
     "text": [
      "              precision    recall  f1-score   support\n",
      "\n",
      "           0       0.68      0.71      0.69      1342\n",
      "           1       0.84      0.82      0.83      2462\n",
      "\n",
      "    accuracy                           0.78      3804\n",
      "   macro avg       0.76      0.76      0.76      3804\n",
      "weighted avg       0.78      0.78      0.78      3804\n",
      "\n"
     ]
    }
   ],
   "source": [
    "print(classification_report(y_test,y_predict))"
   ]
  },
  {
   "cell_type": "code",
   "execution_count": null,
   "id": "cac7a953-4cac-4074-8d57-b81e0facb126",
   "metadata": {
    "colab": {
     "base_uri": "https://localhost:8080/"
    },
    "id": "cac7a953-4cac-4074-8d57-b81e0facb126",
    "outputId": "75834487-673c-4651-c1f3-a2222b41c6f6"
   },
   "outputs": [
    {
     "name": "stdout",
     "output_type": "stream",
     "text": [
      "              precision    recall  f1-score   support\n",
      "\n",
      "           0       0.68      0.71      0.69      1342\n",
      "           1       0.84      0.82      0.83      2462\n",
      "\n",
      "    accuracy                           0.78      3804\n",
      "   macro avg       0.76      0.76      0.76      3804\n",
      "weighted avg       0.78      0.78      0.78      3804\n",
      "\n"
     ]
    }
   ],
   "source": [
    "print(classification_report(y_test,y_predict))"
   ]
  },
  {
   "cell_type": "markdown",
   "id": "a8e3eecd-cbd1-4b0c-a475-4aa04e5c74ff",
   "metadata": {
    "id": "a8e3eecd-cbd1-4b0c-a475-4aa04e5c74ff"
   },
   "source": [
    "# Naive Bayes\n"
   ]
  },
  {
   "cell_type": "code",
   "execution_count": null,
   "id": "c29080af-a820-4435-9fea-e711055b0e9b",
   "metadata": {
    "id": "c29080af-a820-4435-9fea-e711055b0e9b"
   },
   "outputs": [],
   "source": [
    "from sklearn.naive_bayes import GaussianNB"
   ]
  },
  {
   "cell_type": "code",
   "execution_count": null,
   "id": "dea589bf-a950-4d31-b003-9afc6c7f3fd1",
   "metadata": {
    "id": "dea589bf-a950-4d31-b003-9afc6c7f3fd1"
   },
   "outputs": [],
   "source": [
    "nb_model = GaussianNB()"
   ]
  },
  {
   "cell_type": "code",
   "execution_count": null,
   "id": "3876fa13-916f-44c4-b46a-f30f34251d29",
   "metadata": {
    "colab": {
     "base_uri": "https://localhost:8080/",
     "height": 75
    },
    "id": "3876fa13-916f-44c4-b46a-f30f34251d29",
    "outputId": "03b7c929-9ec8-4867-eb99-8d1d8b31230e"
   },
   "outputs": [
    {
     "data": {
      "text/html": [
       "<style>#sk-container-id-2 {color: black;background-color: white;}#sk-container-id-2 pre{padding: 0;}#sk-container-id-2 div.sk-toggleable {background-color: white;}#sk-container-id-2 label.sk-toggleable__label {cursor: pointer;display: block;width: 100%;margin-bottom: 0;padding: 0.3em;box-sizing: border-box;text-align: center;}#sk-container-id-2 label.sk-toggleable__label-arrow:before {content: \"▸\";float: left;margin-right: 0.25em;color: #696969;}#sk-container-id-2 label.sk-toggleable__label-arrow:hover:before {color: black;}#sk-container-id-2 div.sk-estimator:hover label.sk-toggleable__label-arrow:before {color: black;}#sk-container-id-2 div.sk-toggleable__content {max-height: 0;max-width: 0;overflow: hidden;text-align: left;background-color: #f0f8ff;}#sk-container-id-2 div.sk-toggleable__content pre {margin: 0.2em;color: black;border-radius: 0.25em;background-color: #f0f8ff;}#sk-container-id-2 input.sk-toggleable__control:checked~div.sk-toggleable__content {max-height: 200px;max-width: 100%;overflow: auto;}#sk-container-id-2 input.sk-toggleable__control:checked~label.sk-toggleable__label-arrow:before {content: \"▾\";}#sk-container-id-2 div.sk-estimator input.sk-toggleable__control:checked~label.sk-toggleable__label {background-color: #d4ebff;}#sk-container-id-2 div.sk-label input.sk-toggleable__control:checked~label.sk-toggleable__label {background-color: #d4ebff;}#sk-container-id-2 input.sk-hidden--visually {border: 0;clip: rect(1px 1px 1px 1px);clip: rect(1px, 1px, 1px, 1px);height: 1px;margin: -1px;overflow: hidden;padding: 0;position: absolute;width: 1px;}#sk-container-id-2 div.sk-estimator {font-family: monospace;background-color: #f0f8ff;border: 1px dotted black;border-radius: 0.25em;box-sizing: border-box;margin-bottom: 0.5em;}#sk-container-id-2 div.sk-estimator:hover {background-color: #d4ebff;}#sk-container-id-2 div.sk-parallel-item::after {content: \"\";width: 100%;border-bottom: 1px solid gray;flex-grow: 1;}#sk-container-id-2 div.sk-label:hover label.sk-toggleable__label {background-color: #d4ebff;}#sk-container-id-2 div.sk-serial::before {content: \"\";position: absolute;border-left: 1px solid gray;box-sizing: border-box;top: 0;bottom: 0;left: 50%;z-index: 0;}#sk-container-id-2 div.sk-serial {display: flex;flex-direction: column;align-items: center;background-color: white;padding-right: 0.2em;padding-left: 0.2em;position: relative;}#sk-container-id-2 div.sk-item {position: relative;z-index: 1;}#sk-container-id-2 div.sk-parallel {display: flex;align-items: stretch;justify-content: center;background-color: white;position: relative;}#sk-container-id-2 div.sk-item::before, #sk-container-id-2 div.sk-parallel-item::before {content: \"\";position: absolute;border-left: 1px solid gray;box-sizing: border-box;top: 0;bottom: 0;left: 50%;z-index: -1;}#sk-container-id-2 div.sk-parallel-item {display: flex;flex-direction: column;z-index: 1;position: relative;background-color: white;}#sk-container-id-2 div.sk-parallel-item:first-child::after {align-self: flex-end;width: 50%;}#sk-container-id-2 div.sk-parallel-item:last-child::after {align-self: flex-start;width: 50%;}#sk-container-id-2 div.sk-parallel-item:only-child::after {width: 0;}#sk-container-id-2 div.sk-dashed-wrapped {border: 1px dashed gray;margin: 0 0.4em 0.5em 0.4em;box-sizing: border-box;padding-bottom: 0.4em;background-color: white;}#sk-container-id-2 div.sk-label label {font-family: monospace;font-weight: bold;display: inline-block;line-height: 1.2em;}#sk-container-id-2 div.sk-label-container {text-align: center;}#sk-container-id-2 div.sk-container {/* jupyter's `normalize.less` sets `[hidden] { display: none; }` but bootstrap.min.css set `[hidden] { display: none !important; }` so we also need the `!important` here to be able to override the default hidden behavior on the sphinx rendered scikit-learn.org. See: https://github.com/scikit-learn/scikit-learn/issues/21755 */display: inline-block !important;position: relative;}#sk-container-id-2 div.sk-text-repr-fallback {display: none;}</style><div id=\"sk-container-id-2\" class=\"sk-top-container\"><div class=\"sk-text-repr-fallback\"><pre>GaussianNB()</pre><b>In a Jupyter environment, please rerun this cell to show the HTML representation or trust the notebook. <br />On GitHub, the HTML representation is unable to render, please try loading this page with nbviewer.org.</b></div><div class=\"sk-container\" hidden><div class=\"sk-item\"><div class=\"sk-estimator sk-toggleable\"><input class=\"sk-toggleable__control sk-hidden--visually\" id=\"sk-estimator-id-2\" type=\"checkbox\" checked><label for=\"sk-estimator-id-2\" class=\"sk-toggleable__label sk-toggleable__label-arrow\">GaussianNB</label><div class=\"sk-toggleable__content\"><pre>GaussianNB()</pre></div></div></div></div></div>"
      ],
      "text/plain": [
       "GaussianNB()"
      ]
     },
     "execution_count": 34,
     "metadata": {},
     "output_type": "execute_result"
    }
   ],
   "source": [
    "nb_model.fit(X_train,y_train)"
   ]
  },
  {
   "cell_type": "code",
   "execution_count": null,
   "id": "3e33a3d2-09f7-4eef-a8a3-336a7180c0aa",
   "metadata": {
    "id": "3e33a3d2-09f7-4eef-a8a3-336a7180c0aa"
   },
   "outputs": [],
   "source": [
    "y_predict = nb_model.predict(x_test)"
   ]
  },
  {
   "cell_type": "code",
   "execution_count": 25,
   "id": "75df1e00-5fcb-4bd3-9317-14ab638291d0",
   "metadata": {
    "colab": {
     "base_uri": "https://localhost:8080/"
    },
    "id": "75df1e00-5fcb-4bd3-9317-14ab638291d0",
    "outputId": "f02f15e1-bc34-4b99-f7d7-326885567be1"
   },
   "outputs": [
    {
     "name": "stdout",
     "output_type": "stream",
     "text": [
      "              precision    recall  f1-score   support\n",
      "\n",
      "           0       0.75      0.75      0.75      1319\n",
      "           1       0.87      0.87      0.87      2485\n",
      "\n",
      "    accuracy                           0.83      3804\n",
      "   macro avg       0.81      0.81      0.81      3804\n",
      "weighted avg       0.83      0.83      0.83      3804\n",
      "\n"
     ]
    }
   ],
   "source": [
    "print(classification_report(y_test,y_predict))"
   ]
  },
  {
   "cell_type": "markdown",
   "id": "5fa6c97a-be5c-4b13-bbe9-d63b92640bbe",
   "metadata": {
    "id": "5fa6c97a-be5c-4b13-bbe9-d63b92640bbe"
   },
   "source": [
    "# SVM"
   ]
  },
  {
   "cell_type": "code",
   "execution_count": 17,
   "id": "a70ffe55-59f8-4a1f-8f0d-346f40d849c7",
   "metadata": {
    "id": "a70ffe55-59f8-4a1f-8f0d-346f40d849c7"
   },
   "outputs": [],
   "source": [
    "from sklearn.svm import SVC"
   ]
  },
  {
   "cell_type": "code",
   "execution_count": 18,
   "id": "53ab1adb-c031-4ec6-b0aa-dac8bced6f64",
   "metadata": {
    "colab": {
     "base_uri": "https://localhost:8080/"
    },
    "id": "53ab1adb-c031-4ec6-b0aa-dac8bced6f64",
    "outputId": "4f280cc0-7348-4fee-e3c3-219668931382"
   },
   "outputs": [
    {
     "name": "stdout",
     "output_type": "stream",
     "text": [
      "CPU times: user 8.86 s, sys: 144 ms, total: 9 s\n",
      "Wall time: 9.39 s\n"
     ]
    }
   ],
   "source": [
    "%%time\n",
    "svm_model = SVC()\n",
    "svm_model = svm_model.fit(X_train,y_train)"
   ]
  },
  {
   "cell_type": "code",
   "execution_count": 22,
   "id": "89aaed8d-09de-4b1f-ba26-0436d090283b",
   "metadata": {
    "id": "89aaed8d-09de-4b1f-ba26-0436d090283b"
   },
   "outputs": [],
   "source": [
    "y_predict = svm_model.predict(x_test)"
   ]
  },
  {
   "cell_type": "code",
   "execution_count": 27,
   "id": "b3942d5b-d976-4959-98f5-8f69542b39da",
   "metadata": {
    "colab": {
     "base_uri": "https://localhost:8080/"
    },
    "id": "b3942d5b-d976-4959-98f5-8f69542b39da",
    "outputId": "af536ce4-8d59-4448-f0da-73cb5b6e24f6"
   },
   "outputs": [
    {
     "name": "stdout",
     "output_type": "stream",
     "text": [
      "              precision    recall  f1-score   support\n",
      "\n",
      "           0       0.75      0.75      0.75      1319\n",
      "           1       0.87      0.87      0.87      2485\n",
      "\n",
      "    accuracy                           0.83      3804\n",
      "   macro avg       0.81      0.81      0.81      3804\n",
      "weighted avg       0.83      0.83      0.83      3804\n",
      "\n"
     ]
    }
   ],
   "source": [
    "print(classification_report(y_test,y_predict))"
   ]
  },
  {
   "cell_type": "markdown",
   "id": "468fdea3-e4f1-4b30-b5c8-7642bbd8c9ef",
   "metadata": {
    "id": "468fdea3-e4f1-4b30-b5c8-7642bbd8c9ef"
   },
   "source": [
    "# Neural Network"
   ]
  },
  {
   "cell_type": "code",
   "execution_count": 31,
   "id": "915952d4-4776-4d3b-89f0-424b426dc126",
   "metadata": {
    "id": "915952d4-4776-4d3b-89f0-424b426dc126"
   },
   "outputs": [],
   "source": [
    "import tensorflow as tf"
   ]
  },
  {
   "cell_type": "code",
   "execution_count": 32,
   "id": "c866ec66-5ef2-493c-8627-83a1613849f6",
   "metadata": {
    "id": "c866ec66-5ef2-493c-8627-83a1613849f6"
   },
   "outputs": [],
   "source": [
    "\n",
    "def plot_loss_accuracy(history):\n",
    "    fig, (ax1,ax2) = plt.subplots(1,2,figsize=(10,6))\n",
    "\n",
    "    ax1.plot(history.history['loss'],label='loss' )\n",
    "    ax1.plot(history.history['val_loss'],label='val_loss')\n",
    "    ax1.set_ylabel('Binary crossentropy')\n",
    "    ax1.set_xlabel('Epoch')\n",
    "\n",
    "\n",
    "    ax2.plot(history.history['accuracy'],label='accuracy')\n",
    "    ax2.plot(history.history['val_accuracy'],label='accuracy')\n",
    "    ax2.set_ylabel('Accuracy')\n",
    "    ax2.set_xlabel('Epoch')\n",
    "\n",
    "    ax1.legend()\n",
    "    ax1.grid(True)\n",
    "    ax2.legend()\n",
    "    ax2.grid(True)\n",
    "\n",
    "    plt.show()"
   ]
  },
  {
   "cell_type": "code",
   "execution_count": 33,
   "id": "3e828401-3ddd-4713-ab1a-ddda11abe4ef",
   "metadata": {
    "id": "3e828401-3ddd-4713-ab1a-ddda11abe4ef"
   },
   "outputs": [
    {
     "name": "stderr",
     "output_type": "stream",
     "text": [
      "2023-12-22 11:03:53.570494: I tensorflow/core/common_runtime/process_util.cc:146] Creating new thread pool with default inter op setting: 2. Tune using inter_op_parallelism_threads for best performance.\n"
     ]
    }
   ],
   "source": [
    "nn_model = tf.keras.Sequential([\n",
    "    tf.keras.layers.Dense(32,activation=\"relu\"),\n",
    "    tf.keras.layers.Dense(32,activation=\"relu\"),\n",
    "    tf.keras.layers.Dense(1,activation=\"sigmoid\")\n",
    "    ])\n",
    "\n",
    "nn_model.compile(optimizer=tf.keras.optimizers.Adam(0.001), loss=\"binary_crossentropy\", metrics=['accuracy'])"
   ]
  },
  {
   "cell_type": "code",
   "execution_count": 43,
   "id": "0ac634f3-0152-4e73-b4cc-f94e57b8013e",
   "metadata": {
    "colab": {
     "base_uri": "https://localhost:8080/"
    },
    "id": "0ac634f3-0152-4e73-b4cc-f94e57b8013e",
    "outputId": "988376ec-a3b6-4392-9fcc-56cd8d886232",
    "scrolled": true
   },
   "outputs": [
    {
     "name": "stdout",
     "output_type": "stream",
     "text": [
      "Epoch 1/100\n",
      "372/372 [==============================] - 4s 8ms/step - loss: 0.9316 - accuracy: 0.6998 - val_loss: 0.6203 - val_accuracy: 0.6945\n",
      "Epoch 2/100\n",
      "372/372 [==============================] - 3s 8ms/step - loss: 0.5190 - accuracy: 0.7553 - val_loss: 0.5754 - val_accuracy: 0.7100\n",
      "Epoch 3/100\n",
      "372/372 [==============================] - 2s 6ms/step - loss: 0.4817 - accuracy: 0.7777 - val_loss: 0.4239 - val_accuracy: 0.7951\n",
      "Epoch 4/100\n",
      "372/372 [==============================] - 3s 7ms/step - loss: 0.4649 - accuracy: 0.7863 - val_loss: 0.7052 - val_accuracy: 0.5646\n",
      "Epoch 5/100\n",
      "372/372 [==============================] - 2s 7ms/step - loss: 0.4474 - accuracy: 0.7944 - val_loss: 1.0352 - val_accuracy: 0.4256\n",
      "Epoch 6/100\n",
      "372/372 [==============================] - 3s 7ms/step - loss: 0.4444 - accuracy: 0.7964 - val_loss: 0.7492 - val_accuracy: 0.5622\n",
      "Epoch 7/100\n",
      "372/372 [==============================] - 3s 7ms/step - loss: 0.4412 - accuracy: 0.7992 - val_loss: 0.3353 - val_accuracy: 0.8439\n",
      "Epoch 8/100\n",
      "372/372 [==============================] - 3s 8ms/step - loss: 0.4383 - accuracy: 0.7961 - val_loss: 0.4145 - val_accuracy: 0.7873\n",
      "Epoch 9/100\n",
      "372/372 [==============================] - 3s 8ms/step - loss: 0.4367 - accuracy: 0.8013 - val_loss: 0.6428 - val_accuracy: 0.6400\n",
      "Epoch 10/100\n",
      "372/372 [==============================] - 3s 7ms/step - loss: 0.4389 - accuracy: 0.8006 - val_loss: 0.2830 - val_accuracy: 0.8755\n",
      "Epoch 11/100\n",
      "372/372 [==============================] - 3s 8ms/step - loss: 0.4231 - accuracy: 0.8073 - val_loss: 0.5708 - val_accuracy: 0.6935\n",
      "Epoch 12/100\n",
      "372/372 [==============================] - 3s 8ms/step - loss: 0.4242 - accuracy: 0.8049 - val_loss: 0.6537 - val_accuracy: 0.6312\n",
      "Epoch 13/100\n",
      "372/372 [==============================] - 3s 8ms/step - loss: 0.4153 - accuracy: 0.8140 - val_loss: 0.7361 - val_accuracy: 0.6040\n",
      "Epoch 14/100\n",
      "372/372 [==============================] - 2s 6ms/step - loss: 0.4195 - accuracy: 0.8080 - val_loss: 0.5904 - val_accuracy: 0.6716\n",
      "Epoch 15/100\n",
      "372/372 [==============================] - 3s 7ms/step - loss: 0.4139 - accuracy: 0.8159 - val_loss: 0.4246 - val_accuracy: 0.7688\n",
      "Epoch 16/100\n",
      "372/372 [==============================] - 1s 4ms/step - loss: 0.4110 - accuracy: 0.8155 - val_loss: 0.7972 - val_accuracy: 0.5559\n",
      "Epoch 17/100\n",
      "372/372 [==============================] - 2s 6ms/step - loss: 0.4148 - accuracy: 0.8106 - val_loss: 0.5007 - val_accuracy: 0.7231\n",
      "Epoch 18/100\n",
      "372/372 [==============================] - 3s 8ms/step - loss: 0.4077 - accuracy: 0.8176 - val_loss: 0.7038 - val_accuracy: 0.6100\n",
      "Epoch 19/100\n",
      "372/372 [==============================] - 3s 7ms/step - loss: 0.4062 - accuracy: 0.8172 - val_loss: 0.6213 - val_accuracy: 0.6753\n",
      "Epoch 20/100\n",
      "372/372 [==============================] - 2s 7ms/step - loss: 0.4031 - accuracy: 0.8194 - val_loss: 0.4788 - val_accuracy: 0.7352\n",
      "Epoch 21/100\n",
      "372/372 [==============================] - 2s 5ms/step - loss: 0.4084 - accuracy: 0.8177 - val_loss: 0.3804 - val_accuracy: 0.8038\n",
      "Epoch 22/100\n",
      "372/372 [==============================] - 2s 5ms/step - loss: 0.4020 - accuracy: 0.8189 - val_loss: 0.7238 - val_accuracy: 0.6215\n",
      "Epoch 23/100\n",
      "372/372 [==============================] - 1s 4ms/step - loss: 0.4001 - accuracy: 0.8200 - val_loss: 0.4689 - val_accuracy: 0.7409\n",
      "Epoch 24/100\n",
      "372/372 [==============================] - 1s 4ms/step - loss: 0.4026 - accuracy: 0.8176 - val_loss: 0.7639 - val_accuracy: 0.6057\n",
      "Epoch 25/100\n",
      "372/372 [==============================] - 2s 5ms/step - loss: 0.3995 - accuracy: 0.8210 - val_loss: 0.5151 - val_accuracy: 0.7056\n",
      "Epoch 26/100\n",
      "372/372 [==============================] - 3s 8ms/step - loss: 0.3955 - accuracy: 0.8217 - val_loss: 0.4306 - val_accuracy: 0.7709\n",
      "Epoch 27/100\n",
      "372/372 [==============================] - 3s 8ms/step - loss: 0.3961 - accuracy: 0.8237 - val_loss: 0.5498 - val_accuracy: 0.7123\n",
      "Epoch 28/100\n",
      "372/372 [==============================] - 2s 7ms/step - loss: 0.3946 - accuracy: 0.8221 - val_loss: 0.5651 - val_accuracy: 0.6935\n",
      "Epoch 29/100\n",
      "372/372 [==============================] - 3s 8ms/step - loss: 0.3891 - accuracy: 0.8231 - val_loss: 0.6267 - val_accuracy: 0.6383\n",
      "Epoch 30/100\n",
      "372/372 [==============================] - 2s 6ms/step - loss: 0.3864 - accuracy: 0.8270 - val_loss: 0.5483 - val_accuracy: 0.7036\n",
      "Epoch 31/100\n",
      "372/372 [==============================] - 2s 5ms/step - loss: 0.3899 - accuracy: 0.8247 - val_loss: 0.5161 - val_accuracy: 0.7120\n",
      "Epoch 32/100\n",
      "372/372 [==============================] - 2s 6ms/step - loss: 0.3864 - accuracy: 0.8269 - val_loss: 0.5220 - val_accuracy: 0.7056\n",
      "Epoch 33/100\n",
      "372/372 [==============================] - 2s 7ms/step - loss: 0.3899 - accuracy: 0.8267 - val_loss: 0.5126 - val_accuracy: 0.7177\n",
      "Epoch 34/100\n",
      "372/372 [==============================] - 2s 4ms/step - loss: 0.3832 - accuracy: 0.8295 - val_loss: 0.5445 - val_accuracy: 0.6841\n",
      "Epoch 35/100\n",
      "372/372 [==============================] - 2s 4ms/step - loss: 0.3829 - accuracy: 0.8267 - val_loss: 0.4237 - val_accuracy: 0.7766\n",
      "Epoch 36/100\n",
      "372/372 [==============================] - 2s 4ms/step - loss: 0.3840 - accuracy: 0.8301 - val_loss: 0.6291 - val_accuracy: 0.6484\n",
      "Epoch 37/100\n",
      "372/372 [==============================] - 2s 5ms/step - loss: 0.3828 - accuracy: 0.8292 - val_loss: 0.7836 - val_accuracy: 0.5878\n",
      "Epoch 38/100\n",
      "372/372 [==============================] - 1s 4ms/step - loss: 0.3827 - accuracy: 0.8294 - val_loss: 0.6259 - val_accuracy: 0.6501\n",
      "Epoch 39/100\n",
      "372/372 [==============================] - 3s 7ms/step - loss: 0.3790 - accuracy: 0.8365 - val_loss: 0.6402 - val_accuracy: 0.6443\n",
      "Epoch 40/100\n",
      "372/372 [==============================] - 2s 7ms/step - loss: 0.3808 - accuracy: 0.8310 - val_loss: 0.5390 - val_accuracy: 0.7042\n",
      "Epoch 41/100\n",
      "372/372 [==============================] - 3s 7ms/step - loss: 0.3770 - accuracy: 0.8333 - val_loss: 0.5132 - val_accuracy: 0.7224\n",
      "Epoch 42/100\n",
      "372/372 [==============================] - 3s 7ms/step - loss: 0.3799 - accuracy: 0.8306 - val_loss: 0.5454 - val_accuracy: 0.7079\n",
      "Epoch 43/100\n",
      "372/372 [==============================] - 3s 7ms/step - loss: 0.3747 - accuracy: 0.8348 - val_loss: 0.4759 - val_accuracy: 0.7379\n",
      "Epoch 44/100\n",
      "372/372 [==============================] - 2s 7ms/step - loss: 0.3709 - accuracy: 0.8377 - val_loss: 0.4889 - val_accuracy: 0.7291\n",
      "Epoch 45/100\n",
      "372/372 [==============================] - 3s 8ms/step - loss: 0.3727 - accuracy: 0.8354 - val_loss: 0.6940 - val_accuracy: 0.6087\n",
      "Epoch 46/100\n",
      "372/372 [==============================] - 3s 7ms/step - loss: 0.3712 - accuracy: 0.8349 - val_loss: 0.5925 - val_accuracy: 0.6689\n",
      "Epoch 47/100\n",
      "372/372 [==============================] - 3s 8ms/step - loss: 0.3705 - accuracy: 0.8347 - val_loss: 0.5330 - val_accuracy: 0.7137\n",
      "Epoch 48/100\n",
      "372/372 [==============================] - 2s 4ms/step - loss: 0.3698 - accuracy: 0.8363 - val_loss: 0.6357 - val_accuracy: 0.6343\n",
      "Epoch 49/100\n",
      "372/372 [==============================] - 2s 5ms/step - loss: 0.3690 - accuracy: 0.8358 - val_loss: 0.7264 - val_accuracy: 0.6134\n",
      "Epoch 50/100\n",
      "372/372 [==============================] - 3s 7ms/step - loss: 0.3649 - accuracy: 0.8387 - val_loss: 0.7100 - val_accuracy: 0.6353\n",
      "Epoch 51/100\n",
      "372/372 [==============================] - 3s 7ms/step - loss: 0.3705 - accuracy: 0.8386 - val_loss: 0.6924 - val_accuracy: 0.5979\n",
      "Epoch 52/100\n",
      "372/372 [==============================] - 3s 7ms/step - loss: 0.3671 - accuracy: 0.8382 - val_loss: 0.6545 - val_accuracy: 0.6332\n",
      "Epoch 53/100\n",
      "372/372 [==============================] - 3s 7ms/step - loss: 0.3646 - accuracy: 0.8417 - val_loss: 0.4537 - val_accuracy: 0.7591\n",
      "Epoch 54/100\n",
      "372/372 [==============================] - 3s 7ms/step - loss: 0.3632 - accuracy: 0.8385 - val_loss: 0.5972 - val_accuracy: 0.6598\n",
      "Epoch 55/100\n",
      "372/372 [==============================] - 3s 8ms/step - loss: 0.3644 - accuracy: 0.8402 - val_loss: 0.4371 - val_accuracy: 0.7776\n",
      "Epoch 56/100\n",
      "372/372 [==============================] - 2s 7ms/step - loss: 0.3624 - accuracy: 0.8429 - val_loss: 0.6815 - val_accuracy: 0.6225\n",
      "Epoch 57/100\n",
      "372/372 [==============================] - 3s 7ms/step - loss: 0.3640 - accuracy: 0.8380 - val_loss: 0.5738 - val_accuracy: 0.6817\n",
      "Epoch 58/100\n",
      "372/372 [==============================] - 3s 7ms/step - loss: 0.3610 - accuracy: 0.8405 - val_loss: 0.4626 - val_accuracy: 0.7463\n",
      "Epoch 59/100\n",
      "372/372 [==============================] - 3s 7ms/step - loss: 0.3603 - accuracy: 0.8394 - val_loss: 0.4554 - val_accuracy: 0.7466\n",
      "Epoch 60/100\n",
      "372/372 [==============================] - 2s 7ms/step - loss: 0.3566 - accuracy: 0.8438 - val_loss: 0.7059 - val_accuracy: 0.6141\n",
      "Epoch 61/100\n",
      "372/372 [==============================] - 3s 7ms/step - loss: 0.3622 - accuracy: 0.8425 - val_loss: 0.7528 - val_accuracy: 0.5797\n",
      "Epoch 62/100\n",
      "372/372 [==============================] - 3s 7ms/step - loss: 0.3608 - accuracy: 0.8417 - val_loss: 0.5452 - val_accuracy: 0.7032\n",
      "Epoch 63/100\n",
      "372/372 [==============================] - 3s 8ms/step - loss: 0.3578 - accuracy: 0.8444 - val_loss: 0.5099 - val_accuracy: 0.7244\n",
      "Epoch 64/100\n",
      "372/372 [==============================] - 3s 7ms/step - loss: 0.3594 - accuracy: 0.8423 - val_loss: 0.6451 - val_accuracy: 0.6467\n",
      "Epoch 65/100\n",
      "372/372 [==============================] - 3s 7ms/step - loss: 0.3553 - accuracy: 0.8444 - val_loss: 0.5918 - val_accuracy: 0.6898\n",
      "Epoch 66/100\n",
      "372/372 [==============================] - 3s 7ms/step - loss: 0.3585 - accuracy: 0.8436 - val_loss: 0.3640 - val_accuracy: 0.8207\n",
      "Epoch 67/100\n",
      "372/372 [==============================] - 3s 7ms/step - loss: 0.3562 - accuracy: 0.8423 - val_loss: 0.5176 - val_accuracy: 0.7120\n",
      "Epoch 68/100\n",
      "372/372 [==============================] - 2s 6ms/step - loss: 0.3555 - accuracy: 0.8418 - val_loss: 0.3754 - val_accuracy: 0.8062\n",
      "Epoch 69/100\n",
      "372/372 [==============================] - 3s 7ms/step - loss: 0.3523 - accuracy: 0.8470 - val_loss: 0.4968 - val_accuracy: 0.7177\n",
      "Epoch 70/100\n",
      "372/372 [==============================] - 3s 7ms/step - loss: 0.3510 - accuracy: 0.8454 - val_loss: 0.5452 - val_accuracy: 0.6864\n",
      "Epoch 71/100\n",
      "372/372 [==============================] - 3s 7ms/step - loss: 0.3498 - accuracy: 0.8461 - val_loss: 0.4488 - val_accuracy: 0.7554\n",
      "Epoch 72/100\n",
      "372/372 [==============================] - 2s 7ms/step - loss: 0.3533 - accuracy: 0.8460 - val_loss: 0.4572 - val_accuracy: 0.7662\n",
      "Epoch 73/100\n",
      "372/372 [==============================] - 3s 7ms/step - loss: 0.3521 - accuracy: 0.8451 - val_loss: 0.5102 - val_accuracy: 0.7312\n",
      "Epoch 74/100\n",
      "372/372 [==============================] - 3s 7ms/step - loss: 0.3488 - accuracy: 0.8470 - val_loss: 0.5598 - val_accuracy: 0.6952\n",
      "Epoch 75/100\n",
      "372/372 [==============================] - 3s 7ms/step - loss: 0.3519 - accuracy: 0.8449 - val_loss: 0.4136 - val_accuracy: 0.7779\n",
      "Epoch 76/100\n",
      "372/372 [==============================] - 2s 6ms/step - loss: 0.3501 - accuracy: 0.8419 - val_loss: 0.4556 - val_accuracy: 0.7520\n",
      "Epoch 77/100\n",
      "372/372 [==============================] - 2s 6ms/step - loss: 0.3468 - accuracy: 0.8481 - val_loss: 0.4510 - val_accuracy: 0.7554\n",
      "Epoch 78/100\n",
      "372/372 [==============================] - 2s 7ms/step - loss: 0.3486 - accuracy: 0.8457 - val_loss: 0.3733 - val_accuracy: 0.8089\n",
      "Epoch 79/100\n",
      "372/372 [==============================] - 2s 6ms/step - loss: 0.3492 - accuracy: 0.8463 - val_loss: 0.5471 - val_accuracy: 0.7052\n",
      "Epoch 80/100\n",
      "372/372 [==============================] - 2s 6ms/step - loss: 0.3467 - accuracy: 0.8500 - val_loss: 0.4308 - val_accuracy: 0.7665\n",
      "Epoch 81/100\n",
      "372/372 [==============================] - 2s 6ms/step - loss: 0.3478 - accuracy: 0.8477 - val_loss: 0.5472 - val_accuracy: 0.7184\n",
      "Epoch 82/100\n",
      "372/372 [==============================] - 2s 6ms/step - loss: 0.3485 - accuracy: 0.8495 - val_loss: 0.5634 - val_accuracy: 0.6874\n",
      "Epoch 83/100\n",
      "372/372 [==============================] - 2s 7ms/step - loss: 0.3457 - accuracy: 0.8477 - val_loss: 0.5538 - val_accuracy: 0.6820\n",
      "Epoch 84/100\n",
      "372/372 [==============================] - 2s 7ms/step - loss: 0.3433 - accuracy: 0.8478 - val_loss: 0.5412 - val_accuracy: 0.7190\n",
      "Epoch 85/100\n",
      "372/372 [==============================] - 2s 6ms/step - loss: 0.3426 - accuracy: 0.8488 - val_loss: 0.4998 - val_accuracy: 0.7278\n",
      "Epoch 86/100\n",
      "372/372 [==============================] - 3s 7ms/step - loss: 0.3426 - accuracy: 0.8518 - val_loss: 0.5992 - val_accuracy: 0.6874\n",
      "Epoch 87/100\n",
      "372/372 [==============================] - 3s 7ms/step - loss: 0.3459 - accuracy: 0.8473 - val_loss: 0.5867 - val_accuracy: 0.6867\n",
      "Epoch 88/100\n",
      "372/372 [==============================] - 2s 6ms/step - loss: 0.3478 - accuracy: 0.8504 - val_loss: 0.5048 - val_accuracy: 0.7322\n",
      "Epoch 89/100\n",
      "372/372 [==============================] - 2s 6ms/step - loss: 0.3413 - accuracy: 0.8516 - val_loss: 0.4890 - val_accuracy: 0.7359\n",
      "Epoch 90/100\n",
      "372/372 [==============================] - 2s 7ms/step - loss: 0.3392 - accuracy: 0.8514 - val_loss: 0.4467 - val_accuracy: 0.7587\n",
      "Epoch 91/100\n",
      "372/372 [==============================] - 2s 6ms/step - loss: 0.3437 - accuracy: 0.8497 - val_loss: 0.4949 - val_accuracy: 0.7483\n",
      "Epoch 92/100\n",
      "372/372 [==============================] - 3s 7ms/step - loss: 0.3404 - accuracy: 0.8530 - val_loss: 0.4819 - val_accuracy: 0.7493\n",
      "Epoch 93/100\n",
      "372/372 [==============================] - 3s 7ms/step - loss: 0.3406 - accuracy: 0.8541 - val_loss: 0.5393 - val_accuracy: 0.7238\n",
      "Epoch 94/100\n",
      "372/372 [==============================] - 3s 8ms/step - loss: 0.3420 - accuracy: 0.8504 - val_loss: 0.3916 - val_accuracy: 0.8052\n",
      "Epoch 95/100\n",
      "372/372 [==============================] - 3s 7ms/step - loss: 0.3372 - accuracy: 0.8531 - val_loss: 0.4860 - val_accuracy: 0.7402\n",
      "Epoch 96/100\n",
      "372/372 [==============================] - 3s 8ms/step - loss: 0.3353 - accuracy: 0.8549 - val_loss: 0.4360 - val_accuracy: 0.7709\n",
      "Epoch 97/100\n",
      "372/372 [==============================] - 3s 7ms/step - loss: 0.3389 - accuracy: 0.8507 - val_loss: 0.3908 - val_accuracy: 0.7914\n",
      "Epoch 98/100\n",
      "372/372 [==============================] - 3s 8ms/step - loss: 0.3358 - accuracy: 0.8523 - val_loss: 0.3923 - val_accuracy: 0.8022\n",
      "Epoch 99/100\n",
      "372/372 [==============================] - 3s 7ms/step - loss: 0.3379 - accuracy: 0.8525 - val_loss: 0.6240 - val_accuracy: 0.6592\n",
      "Epoch 100/100\n",
      "372/372 [==============================] - 3s 7ms/step - loss: 0.3378 - accuracy: 0.8538 - val_loss: 0.4179 - val_accuracy: 0.7860\n",
      "CPU times: user 4min 55s, sys: 50.4 s, total: 5min 46s\n",
      "Wall time: 4min 8s\n"
     ]
    }
   ],
   "source": [
    "%%time\n",
    "history = nn_model.fit(\n",
    "    X_train,y_train,epochs=100,batch_size=32,validation_split=0.2\n",
    ")"
   ]
  },
  {
   "cell_type": "code",
   "execution_count": 1,
   "id": "e363bf47-fc3b-46f8-aa22-9128bdfc6662",
   "metadata": {
    "colab": {
     "base_uri": "https://localhost:8080/",
     "height": 178
    },
    "id": "e363bf47-fc3b-46f8-aa22-9128bdfc6662",
    "outputId": "845f3032-19d9-461d-fda9-b858589b613a"
   },
   "outputs": [
    {
     "ename": "NameError",
     "evalue": "ignored",
     "output_type": "error",
     "traceback": [
      "\u001b[0;31m---------------------------------------------------------------------------\u001b[0m",
      "\u001b[0;31mNameError\u001b[0m                                 Traceback (most recent call last)",
      "\u001b[0;32m<ipython-input-1-873ea138eb1c>\u001b[0m in \u001b[0;36m<cell line: 1>\u001b[0;34m()\u001b[0m\n\u001b[0;32m----> 1\u001b[0;31m \u001b[0mplot_loss_accuracy\u001b[0m\u001b[0;34m(\u001b[0m\u001b[0mhistory\u001b[0m\u001b[0;34m)\u001b[0m\u001b[0;34m\u001b[0m\u001b[0;34m\u001b[0m\u001b[0m\n\u001b[0m",
      "\u001b[0;31mNameError\u001b[0m: name 'plot_loss_accuracy' is not defined"
     ]
    }
   ],
   "source": [
    "plot_loss_accuracy(history)"
   ]
  },
  {
   "cell_type": "code",
   "execution_count": 36,
   "id": "7fc8f392-1c45-4725-a443-c84826c7c863",
   "metadata": {
    "id": "7fc8f392-1c45-4725-a443-c84826c7c863"
   },
   "outputs": [],
   "source": [
    "from tqdm.keras import TqdmCallback\n",
    "def trainmodel(X_train,y_train,num_nodes,dropout_prob,lr,batch_size,epochs):\n",
    "    nn_model = tf.keras.Sequential([\n",
    "    tf.keras.layers.Dense(num_nodes,activation=\"relu\"),\n",
    "    tf.keras.layers.Dropout(dropout_prob),\n",
    "    tf.keras.layers.Dense(num_nodes,activation=\"relu\"),\n",
    "    tf.keras.layers.Dropout(dropout_prob),\n",
    "    tf.keras.layers.Dense(1,activation=\"sigmoid\")\n",
    "\n",
    "    ])\n",
    "\n",
    "    nn_model.compile(optimizer=tf.keras.optimizers.Adam(lr), loss=\"binary_crossentropy\", metrics=['accuracy'] )\n",
    "\n",
    "    history = nn_model.fit(\n",
    "        X_train,y_train,epochs=epochs,batch_size=batch_size,validation_split=0.2,verbose=0, callbacks=[TqdmCallback(verbose=1)]\n",
    "    )\n",
    "    return nn_model, history\n"
   ]
  },
  {
   "cell_type": "code",
   "execution_count": 37,
   "id": "efda6ae0-919b-4305-8b66-79687bb26ce1",
   "metadata": {
    "colab": {
     "base_uri": "https://localhost:8080/",
     "height": 161
    },
    "id": "efda6ae0-919b-4305-8b66-79687bb26ce1",
    "outputId": "22d12aac-daba-4318-902f-464c88307d4a"
   },
   "outputs": [
    {
     "data": {
      "application/vnd.jupyter.widget-view+json": {
       "model_id": "e43e6ecc6c5c419b990cca5bb9bb6f66",
       "version_major": 2,
       "version_minor": 0
      },
      "text/plain": [
       "0epoch [00:00, ?epoch/s]"
      ]
     },
     "metadata": {},
     "output_type": "display_data"
    },
    {
     "data": {
      "application/vnd.jupyter.widget-view+json": {
       "model_id": "",
       "version_major": 2,
       "version_minor": 0
      },
      "text/plain": [
       "0batch [00:00, ?batch/s]"
      ]
     },
     "metadata": {},
     "output_type": "display_data"
    },
    {
     "data": {
      "image/png": "[encoded data removed]",
      "text/plain": [
       "<Figure size 1000x600 with 2 Axes>"
      ]
     },
     "metadata": {},
     "output_type": "display_data"
    },
    {
     "name": "stdout",
     "output_type": "stream",
     "text": [
      "CPU times: user 3min 20s, sys: 46.2 s, total: 4min 6s\n",
      "Wall time: 2min 42s\n"
     ]
    }
   ],
   "source": [
    "%%time\n",
    "epochs=100\n",
    "num_nodes,dropout_prob,lr,batch_size = 64,0.2,0.001,64\n",
    "model, history = trainmodel(X_train,y_train,num_nodes,dropout_prob,lr,batch_size,epochs)\n",
    "plot_loss_accuracy(history)"
   ]
  },
  {
   "cell_type": "code",
   "execution_count": null,
   "id": "6c8eb1db-eb61-4d55-ba1e-c96902504c62",
   "metadata": {
    "colab": {
     "base_uri": "https://localhost:8080/",
     "height": 208
    },
    "id": "6c8eb1db-eb61-4d55-ba1e-c96902504c62",
    "outputId": "44836f90-09c3-49a1-84fb-0e33d4435e3f"
   },
   "outputs": [
    {
     "name": "stdout",
     "output_type": "stream",
     "text": [
      "119/119 [==============================] - 0s 1ms/step - loss: 0.4560 - accuracy: 0.7844\n",
      "119/119 [==============================] - 0s 2ms/step - loss: 0.4443 - accuracy: 0.7994\n",
      "119/119 [==============================] - 0s 2ms/step - loss: 0.4423 - accuracy: 0.7829\n"
     ]
    },
    {
     "name": "stderr",
     "output_type": "stream",
     "text": [
      "Exception ignored in: <function WeakKeyDictionary.__init__.<locals>.remove at 0x7861b0d567a0>\n",
      "Traceback (most recent call last):\n",
      "  File \"/usr/lib/python3.10/weakref.py\", line 370, in remove\n",
      "    def remove(k, selfref=ref(self)):\n",
      "KeyboardInterrupt: \n"
     ]
    },
    {
     "name": "stdout",
     "output_type": "stream",
     "text": [
      "119/119 [==============================] - 0s 1ms/step - loss: 0.4324 - accuracy: 0.8152\n",
      "119/119 [==============================] - 0s 2ms/step - loss: 0.5086 - accuracy: 0.7287\n",
      "119/119 [==============================] - 0s 2ms/step - loss: 0.4949 - accuracy: 0.7831\n"
     ]
    }
   ],
   "source": [
    "%%time\n",
    "least_val_loss = float('inf')\n",
    "least_nn_model = None\n",
    "\n",
    "epochs=50\n",
    "\n",
    "for num_nodes in  [8,16,32]:\n",
    "    for dropout_prob in [0 , 0.2]:\n",
    "        for lr in  [0.01, 0.005, 0.001]:\n",
    "            for batch_size in [32, 64]:\n",
    "                print(f'Batch size: {batch_size} , lr: {lr}, dropout prob: {dropout_prob}, numnode: {num_nodes} ')\n",
    "                model, history = trainmodel(X_train,y_train,num_nodes,dropout_prob,lr,batch_size,epochs)\n",
    "                #plot_loss_accuracy(history)\n",
    "\n",
    "                val_loss = model.evaluate(x_valid,y_valid )[0]\n",
    "                if val_loss < least_val_loss:\n",
    "                    least_val_loss=val_loss\n",
    "                    least_nn_model=model\n",
    "\n",
    "\n",
    "\n",
    "\n",
    "\n",
    "\n"
   ]
  },
  {
   "cell_type": "code",
   "execution_count": 15,
   "id": "2eokmgxk0ljt",
   "metadata": {
    "id": "2eokmgxk0ljt"
   },
   "outputs": [
    {
     "ename": "NameError",
     "evalue": "name 'least_nn_model' is not defined",
     "output_type": "error",
     "traceback": [
      "\u001b[0;31m---------------------------------------------------------------------------\u001b[0m",
      "\u001b[0;31mNameError\u001b[0m                                 Traceback (most recent call last)",
      "Cell \u001b[0;32mIn[15], line 1\u001b[0m\n\u001b[0;32m----> 1\u001b[0m y_predict \u001b[38;5;241m=\u001b[39m least_nn_model\u001b[38;5;241m.\u001b[39mpredict(x_valid)\n\u001b[1;32m      2\u001b[0m \u001b[38;5;28mprint\u001b[39m(y_predict)\n\u001b[1;32m      3\u001b[0m y_predict \u001b[38;5;241m=\u001b[39m (y_predict\u001b[38;5;241m>\u001b[39m\u001b[38;5;241m0.5\u001b[39m)\u001b[38;5;241m.\u001b[39mastype(\u001b[38;5;124m'\u001b[39m\u001b[38;5;124mint\u001b[39m\u001b[38;5;124m'\u001b[39m)\n",
      "\u001b[0;31mNameError\u001b[0m: name 'least_nn_model' is not defined"
     ]
    }
   ],
   "source": [
    "y_predict = least_nn_model.predict(x_valid)\n",
    "print(y_predict)\n",
    "y_predict = (y_predict>0.5).astype('int')\n",
    "print(y_predict)"
   ]
  },
  {
   "cell_type": "code",
   "execution_count": 26,
   "id": "220914f3-47fe-4906-a5c4-b07d061de2a0",
   "metadata": {},
   "outputs": [
    {
     "name": "stdout",
     "output_type": "stream",
     "text": [
      "[1 1 0 ... 1 1 0]\n"
     ]
    }
   ],
   "source": [
    "y_predict = (y_predict>0.5).astype('int')\n",
    "print(y_predict)"
   ]
  },
  {
   "cell_type": "code",
   "execution_count": 28,
   "id": "85560661-0960-4d41-a9a2-389db0e3f815",
   "metadata": {},
   "outputs": [
    {
     "name": "stdout",
     "output_type": "stream",
     "text": [
      "              precision    recall  f1-score   support\n",
      "\n",
      "           0       0.75      0.75      0.75      1319\n",
      "           1       0.87      0.87      0.87      2485\n",
      "\n",
      "    accuracy                           0.83      3804\n",
      "   macro avg       0.81      0.81      0.81      3804\n",
      "weighted avg       0.83      0.83      0.83      3804\n",
      "\n"
     ]
    }
   ],
   "source": [
    "print(classification_report(y_test,y_predict))"
   ]
  },
  {
   "cell_type": "code",
   "execution_count": 44,
   "id": "4d6b03b6-5c34-4725-a638-82cc0af5f98e",
   "metadata": {},
   "outputs": [
    {
     "name": "stdout",
     "output_type": "stream",
     "text": [
      "119/119 [==============================] - 0s 4ms/step\n",
      "[[0.92571855]\n",
      " [0.99408406]\n",
      " [0.32733196]\n",
      " ...\n",
      " [0.97847104]\n",
      " [0.9028253 ]\n",
      " [0.03465934]]\n",
      "[1 1 0 ... 1 1 0]\n",
      "              precision    recall  f1-score   support\n",
      "\n",
      "           0       0.92      0.64      0.76      1319\n",
      "           1       0.84      0.97      0.90      2485\n",
      "\n",
      "    accuracy                           0.86      3804\n",
      "   macro avg       0.88      0.81      0.83      3804\n",
      "weighted avg       0.86      0.86      0.85      3804\n",
      "\n"
     ]
    }
   ],
   "source": [
    "y_predict = model.predict(x_test)\n",
    "print(y_predict)\n",
    "y_predict = (y_predict>0.5).astype('int').reshape(-1)\n",
    "print(y_predict)\n",
    "print(classification_report(y_test,y_predict))"
   ]
  },
  {
   "cell_type": "code",
   "execution_count": null,
   "id": "1755e606-ab71-498e-b33a-0187342f8967",
   "metadata": {},
   "outputs": [],
   "source": []
  }
 ],
 "metadata": {
  "colab": {
   "include_colab_link": true,
   "provenance": []
  },
  "kernelspec": {
   "display_name": "Python 3 (ipykernel)",
   "language": "python",
   "name": "python3"
  },
  "language_info": {
   "codemirror_mode": {
    "name": "ipython",
    "version": 3
   },
   "file_extension": ".py",
   "mimetype": "text/x-python",
   "name": "python",
   "nbconvert_exporter": "python",
   "pygments_lexer": "ipython3",
   "version": "3.11.5"
  },
  "widgets": {
   "application/vnd.jupyter.widget-state+json": {
    "state": {
     "13ac90c34d044bd7bcd25448b6cbb2ad": {
      "model_module": "@jupyter-widgets/controls",
      "model_module_version": "2.0.0",
      "model_name": "FloatProgressModel",
      "state": {
       "layout": "IPY_MODEL_f3f6327086cd43faa9147ccd577d84a3",
       "max": 186,
       "style": "IPY_MODEL_a0c78af8493a4b5aa89495f2914df521",
       "value": 186
      }
     },
     "3cbf0779c23948139536eac05f1923ce": {
      "model_module": "@jupyter-widgets/controls",
      "model_module_version": "2.0.0",
      "model_name": "HTMLModel",
      "state": {
       "layout": "IPY_MODEL_66add3b9af63419689a3008a463a8f3a",
       "style": "IPY_MODEL_cdddf082957e4d2da901ea2fb8ac627a",
       "value": "100%"
      }
     },
     "4a3e94eb43af48c38433eab438aac24a": {
      "model_module": "@jupyter-widgets/base",
      "model_module_version": "2.0.0",
      "model_name": "LayoutModel",
      "state": {}
     },
     "4fdb17ec74e843e48a6df878041b8de1": {
      "model_module": "@jupyter-widgets/controls",
      "model_module_version": "2.0.0",
      "model_name": "HTMLStyleModel",
      "state": {
       "description_width": "",
       "font_size": null,
       "text_color": null
      }
     },
     "4fe7361f1309449eb1a49401abf4a06a": {
      "model_module": "@jupyter-widgets/base",
      "model_module_version": "2.0.0",
      "model_name": "LayoutModel",
      "state": {}
     },
     "57815fb3c8a84a99966a411569427c3b": {
      "model_module": "@jupyter-widgets/controls",
      "model_module_version": "2.0.0",
      "model_name": "HTMLModel",
      "state": {
       "layout": "IPY_MODEL_d70f82eb0c3a4c059ea3a555ac450f36",
       "style": "IPY_MODEL_4fdb17ec74e843e48a6df878041b8de1",
       "value": " 100/100 [02:41&lt;00:00,  1.84s/epoch, loss=0.365, accuracy=0.839, val_loss=0.599, val_accuracy=0.633]"
      }
     },
     "6095b33576ba4bd6817e354964e3d008": {
      "model_module": "@jupyter-widgets/controls",
      "model_module_version": "2.0.0",
      "model_name": "FloatProgressModel",
      "state": {
       "bar_style": "success",
       "layout": "IPY_MODEL_6b9c614a70f044c6b2f18abba048622a",
       "style": "IPY_MODEL_943df89012fc41a195d13eef4dee5a1c",
       "value": 100
      }
     },
     "66add3b9af63419689a3008a463a8f3a": {
      "model_module": "@jupyter-widgets/base",
      "model_module_version": "2.0.0",
      "model_name": "LayoutModel",
      "state": {}
     },
     "6b9c614a70f044c6b2f18abba048622a": {
      "model_module": "@jupyter-widgets/base",
      "model_module_version": "2.0.0",
      "model_name": "LayoutModel",
      "state": {}
     },
     "6d7f358b481e43af944bc2c59ba942f2": {
      "model_module": "@jupyter-widgets/controls",
      "model_module_version": "2.0.0",
      "model_name": "HTMLModel",
      "state": {
       "layout": "IPY_MODEL_4fe7361f1309449eb1a49401abf4a06a",
       "style": "IPY_MODEL_82ca059d5ced4d0184dca8c8cc202425",
       "value": " 99%"
      }
     },
     "7fc2251027f64bc68e4959ce95e8939d": {
      "model_module": "@jupyter-widgets/base",
      "model_module_version": "2.0.0",
      "model_name": "LayoutModel",
      "state": {
       "visibility": "hidden"
      }
     },
     "82ca059d5ced4d0184dca8c8cc202425": {
      "model_module": "@jupyter-widgets/controls",
      "model_module_version": "2.0.0",
      "model_name": "HTMLStyleModel",
      "state": {
       "description_width": "",
       "font_size": null,
       "text_color": null
      }
     },
     "943df89012fc41a195d13eef4dee5a1c": {
      "model_module": "@jupyter-widgets/controls",
      "model_module_version": "2.0.0",
      "model_name": "ProgressStyleModel",
      "state": {
       "description_width": ""
      }
     },
     "9a8808a013124fbaadd99b1473e94107": {
      "model_module": "@jupyter-widgets/base",
      "model_module_version": "2.0.0",
      "model_name": "LayoutModel",
      "state": {}
     },
     "a0c78af8493a4b5aa89495f2914df521": {
      "model_module": "@jupyter-widgets/controls",
      "model_module_version": "2.0.0",
      "model_name": "ProgressStyleModel",
      "state": {
       "description_width": ""
      }
     },
     "cdddf082957e4d2da901ea2fb8ac627a": {
      "model_module": "@jupyter-widgets/controls",
      "model_module_version": "2.0.0",
      "model_name": "HTMLStyleModel",
      "state": {
       "description_width": "",
       "font_size": null,
       "text_color": null
      }
     },
     "d5b332ae47944dc6abb4793655ef011f": {
      "model_module": "@jupyter-widgets/controls",
      "model_module_version": "2.0.0",
      "model_name": "HTMLStyleModel",
      "state": {
       "description_width": "",
       "font_size": null,
       "text_color": null
      }
     },
     "d70f82eb0c3a4c059ea3a555ac450f36": {
      "model_module": "@jupyter-widgets/base",
      "model_module_version": "2.0.0",
      "model_name": "LayoutModel",
      "state": {}
     },
     "d761c7f1187749a7bf701c4050dc3ba6": {
      "model_module": "@jupyter-widgets/controls",
      "model_module_version": "2.0.0",
      "model_name": "HTMLModel",
      "state": {
       "layout": "IPY_MODEL_9a8808a013124fbaadd99b1473e94107",
       "style": "IPY_MODEL_d5b332ae47944dc6abb4793655ef011f",
       "value": " 185/186 [00:01&lt;00:00, 112batch/s, loss=0.364, accuracy=0.839]"
      }
     },
     "e43e6ecc6c5c419b990cca5bb9bb6f66": {
      "model_module": "@jupyter-widgets/controls",
      "model_module_version": "2.0.0",
      "model_name": "HBoxModel",
      "state": {
       "children": [
        "IPY_MODEL_3cbf0779c23948139536eac05f1923ce",
        "IPY_MODEL_6095b33576ba4bd6817e354964e3d008",
        "IPY_MODEL_57815fb3c8a84a99966a411569427c3b"
       ],
       "layout": "IPY_MODEL_4a3e94eb43af48c38433eab438aac24a"
      }
     },
     "f3f6327086cd43faa9147ccd577d84a3": {
      "model_module": "@jupyter-widgets/base",
      "model_module_version": "2.0.0",
      "model_name": "LayoutModel",
      "state": {}
     }
    },
    "version_major": 2,
    "version_minor": 0
   }
  }
 },
 "nbformat": 4,
 "nbformat_minor": 5
}
