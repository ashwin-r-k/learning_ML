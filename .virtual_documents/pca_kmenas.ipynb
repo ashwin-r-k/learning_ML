


import pandas as pd 
import numpy as np
import tensorflow as tf
import matplotlib.pyplot as plt
import seaborn as sns


cols = ["area", "perimeter", "compectness", "length","width","asymmetry","groove","class"]
df = pd.read_csv("seeds_dataset.txt",names=cols,sep='\s+')


df


for i in range(len(cols)-1):
    for j in range(i+1,len(cols)-1):
        x_label = cols[i]
        y_label = cols[j]
        sns.scatterplot(x=x_label,y=y_label,data=df,hue="class")
        plt.show()
         





from sklearn.cluster import KMeans


x = "compectness"
y = "asymmetry"

X = df[[x,y]].values



kmeans_model = KMeans(n_clusters=3)
kmeans = kmeans_model.fit(X)


clusters = kmeans.labels_
print(clusters)


print(df["class"].values)


# we just have to pap number to different as we r just clustering properties


cluster_df = pd.DataFrame(np.hstack((X,clusters.reshape(-1,1))),columns=[x,y,"class"] )


#Kmeans classes
sns.scatterplot(x=x,y=y,hue="class",data=cluster_df)
plt.show()


#original 
sns.scatterplot(x=x,y=y,hue="class",data=df)
plt.show








X = df[cols[:-1]].values
kmeans = KMeans(n_clusters=3).fit(X)
cluster_df_m = pd.DataFrame(np.hstack((X,kmeans.labels_.reshape(-1,1)) ),columns=df.columns)


sns.scatterplot(x=x,y=y,hue="class", data=cluster_df_m)


sns.scatterplot(x=x,y=y,hue="class", data=df)


# In higher dimension kemans does have a better prediction









from sklearn.decomposition import PCA


pca_model = PCA(n_components=2)
transformed_x = pca_model.fit_transform(X)


X.shape
print(X[:5])


transformed_x.shape
print(transformed_x[:5])


plt.scatter(transformed_x[:,0],transformed_x[:,1])
plt.show()


kmeans_pca_df = pd.DataFrame ( np.hstack((transformed_x,kmeans.labels_.reshape(-1,1))),columns= ["pca1",'pca2','class'] )


truth_pca_df = pd.DataFrame ( np.hstack((transformed_x,df["class"].values.reshape(-1,1))),columns= ["pca1",'pca2','class'] )


sns.scatterplot(x="pca1",y="pca2",hue="class", data=kmeans_pca_df)
plt.show()


sns.scatterplot(x="pca1",y="pca2",hue="class", data=truth_pca_df)
plt.show()



