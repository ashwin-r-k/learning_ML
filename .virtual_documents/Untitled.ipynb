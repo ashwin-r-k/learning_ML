import numpy as np
import pandas as pd 
from matplotlib import pyplot as plt 
import seaborn as sns
import copy

from sklearn.preprocessing import StandardScaler

import tensorflow as tf 
from sklearn.linear_model import LinearRegression
from sklearn.metrics import classification_report



text = input("enter text")
arr = text.split()

cols = [arr[i] for i in range(len(arr)-1)  if arr[i+1]=="="]
print(cols)






df = pd.read_csv("star_classification_SDSS17.csv")


df





for i in range(len(cols)-1):
    for j in range(i+1,len(cols)-1):
        x_label = cols[i]
        y_label = cols[j]
        sns.scatterplot(x=x_label,y=y_label,data=df,hue="class")
        plt.show()


for label in dfi.columns[:]:
    plt.scatter(dfi["class"],dfi[label])
    plt.title(label)
    #plt.ylabel(label)
   # plt.ylabel(df["class"])
    plt.show()


intrest_cols = ["u","g","r","i","z","redshift","class"]
dfi = df[intrest_cols]
print(dfi)


df.hist(bins=70,figsize=(20,15))


def plot_violin(x, y):
    fig = plt.figure(figsize=(10, 7))
    sns.violinplot(x=x, y=y)
    plt.show()
    return



plot_violin(x=df["class"], y=df["i"])


intrest_cols = ["u","g","r","i","z","redshift","class"]
dfi = df[intrest_cols]
df = dfi #updating only intrested ones and putting class at last
df["class"] =[0 if i=="GALAXY" else 1 if i=="QSO" else 2 for i in df["class"]]


train, val, test = np.split( df.sample(frac=1), [ int(0.6*len(df)) , int(0.8*len(df)) ])


def get_xy(df, y_label,x_label=None):
    df = copy.deepcopy(df)
    if x_label is None:
        X = df[ [c for c in df.columns if c!=y_label]].values
    else:
        if len(x_label)==1:
            X=df[x_label[0]].values.reshape(-1,1)
        else:
            X = df[x_label].values
    y = df[y_label].values.reshape(-1,1)
    data = np.hstack((X,y))

    return data,X,y


_, x_train_all, y_train_all = get_xy(train,"class",x_label=df.columns[:-1])
_, x_val_all, y_val_all = get_xy(val,"class",x_label=df.columns[:-1])
_, x_test_all, y_test_all = get_xy(test,"class",x_label=df.columns[:-1])


reg = LinearRegression()
reg.fit(x_train_all,y_train_all)


reg.score(x_test_all,y_test_all)


type_normalizer = tf.keras.layers.Normalization(input_shape=(6,) , axis=None)
type_normalizer.adapt(x_train_all.reshape(-1,))

nn_model = tf.keras.Sequential(
    
    [type_normalizer,
     tf.keras.layers.Dense(32, activation = "relu"),
     tf.keras.layers.Dense(32, activation = "relu"),
     tf.keras.layers.Dropout(0.1),
     tf.keras.layers.Dense(16, activation = "relu"),
    tf.keras.layers.Dense(1)
    ])
nn_model.compile(optimizer=tf.keras.optimizers.Adam(learning_rate=0.001), loss='mean_squared_error' )


from tqdm.keras import TqdmCallback



history = nn_model.fit(
    x_train_all, y_train_all,
    validation_data=(x_val_all, y_val_all),
    verbose=0, callbacks=[TqdmCallback(verbose=1)],epochs=50
)


def plot_loss(hist):
    plt.plot(hist.history["loss"] ,label = "loss", color = "blue")
    plt.plot(hist.history["val_loss"] ,label = "val_loss", color = "red")

    plt.legend()
    plt.title("class vs var")
    plt.ylabel("MSE")
    plt.xlabel("Epoch")
    plt.grid(True)
    plt.show()


plot_loss(history)


history.


y_predict = nn_model.predict(x_test_all)
print(y_predict)


plt.plot(np.array(y_predict))


y_predict =[0 if i<0.5 else 1 if i<1.5 else 2 for i in y_predict]


print(classification_report(y_test_all,y_predict))


print(classification_report(y_test_all,y_predict))



