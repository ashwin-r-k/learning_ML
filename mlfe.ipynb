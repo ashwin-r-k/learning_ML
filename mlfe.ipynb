{
  "cells": [
    {
      "cell_type": "markdown",
      "metadata": {
        "id": "view-in-github",
        "colab_type": "text"
      },
      "source": [
        "<a href=\"https://colab.research.google.com/github/ashwin-r-k/learning_ML/blob/master/mlfe.ipynb\" target=\"_parent\"><img src=\"https://colab.research.google.com/assets/colab-badge.svg\" alt=\"Open In Colab\"/></a>"
      ]
    },
    {
      "cell_type": "code",
      "execution_count": 2,
      "id": "07cc06ae",
      "metadata": {
        "id": "07cc06ae"
      },
      "outputs": [],
      "source": [
        "import numpy as np\n",
        "import pandas as pd\n",
        "from matplotlib import pyplot as plt\n",
        "from sklearn.preprocessing import StandardScaler"
      ]
    },
    {
      "cell_type": "code",
      "source": [
        " !wget https://raw.githubusercontent.com/ashwin-r-k/learning_ML/master/magic04.data"
      ],
      "metadata": {
        "id": "3Aa91ADCs3Sx",
        "outputId": "75500903-70fb-41df-91b9-2c91d46621b3",
        "colab": {
          "base_uri": "https://localhost:8080/"
        }
      },
      "id": "3Aa91ADCs3Sx",
      "execution_count": 3,
      "outputs": [
        {
          "output_type": "stream",
          "name": "stdout",
          "text": [
            "--2023-12-22 04:32:41--  https://raw.githubusercontent.com/ashwin-r-k/learning_ML/master/magic04.data\n",
            "Resolving raw.githubusercontent.com (raw.githubusercontent.com)... 185.199.108.133, 185.199.109.133, 185.199.110.133, ...\n",
            "Connecting to raw.githubusercontent.com (raw.githubusercontent.com)|185.199.108.133|:443... connected.\n",
            "HTTP request sent, awaiting response... 200 OK\n",
            "Length: 1477391 (1.4M) [text/plain]\n",
            "Saving to: ‘magic04.data’\n",
            "\n",
            "magic04.data        100%[===================>]   1.41M  --.-KB/s    in 0.03s   \n",
            "\n",
            "2023-12-22 04:32:41 (53.7 MB/s) - ‘magic04.data’ saved [1477391/1477391]\n",
            "\n"
          ]
        }
      ]
    },
    {
      "cell_type": "code",
      "execution_count": 4,
      "id": "cd6c0654",
      "metadata": {
        "id": "cd6c0654"
      },
      "outputs": [],
      "source": [
        "from imblearn.over_sampling import RandomOverSampler"
      ]
    },
    {
      "cell_type": "code",
      "execution_count": 5,
      "id": "b96fc895",
      "metadata": {
        "id": "b96fc895"
      },
      "outputs": [],
      "source": [
        "cols = [\"fLength\",\"fWidth\",\"fSize\", \"fConc\", \"fConcl\", \"fAsym\", \"fMllong\", \"fX3Trans\", \"fAlpha\",  \"fDist\", \"class\"]\n",
        "df = pd.read_csv(\"magic04.data\",names=cols)"
      ]
    },
    {
      "cell_type": "code",
      "execution_count": 6,
      "id": "c9fce11f",
      "metadata": {
        "id": "c9fce11f"
      },
      "outputs": [],
      "source": [
        "df[\"class\"] = (df[\"class\"]==\"g\").astype(int)"
      ]
    },
    {
      "cell_type": "code",
      "execution_count": 7,
      "id": "d53406e6",
      "metadata": {
        "id": "d53406e6",
        "outputId": "d8441b42-792a-4b4f-b2ac-63a416cd7b42",
        "colab": {
          "base_uri": "https://localhost:8080/"
        }
      },
      "outputs": [
        {
          "output_type": "stream",
          "name": "stdout",
          "text": [
            "        fLength    fWidth   fSize   fConc  fConcl     fAsym   fMllong  \\\n",
            "0       28.7967   16.0021  2.6449  0.3918  0.1982   27.7004   22.0110   \n",
            "1       31.6036   11.7235  2.5185  0.5303  0.3773   26.2722   23.8238   \n",
            "2      162.0520  136.0310  4.0612  0.0374  0.0187  116.7410  -64.8580   \n",
            "3       23.8172    9.5728  2.3385  0.6147  0.3922   27.2107   -6.4633   \n",
            "4       75.1362   30.9205  3.1611  0.3168  0.1832   -5.5277   28.5525   \n",
            "...         ...       ...     ...     ...     ...       ...       ...   \n",
            "19015   21.3846   10.9170  2.6161  0.5857  0.3934   15.2618   11.5245   \n",
            "19016   28.9452    6.7020  2.2672  0.5351  0.2784   37.0816   13.1853   \n",
            "19017   75.4455   47.5305  3.4483  0.1417  0.0549   -9.3561   41.0562   \n",
            "19018  120.5135   76.9018  3.9939  0.0944  0.0683    5.8043  -93.5224   \n",
            "19019  187.1814   53.0014  3.2093  0.2876  0.1539 -167.3125 -168.4558   \n",
            "\n",
            "       fX3Trans   fAlpha     fDist  class  \n",
            "0       -8.2027  40.0920   81.8828      1  \n",
            "1       -9.9574   6.3609  205.2610      1  \n",
            "2      -45.2160  76.9600  256.7880      1  \n",
            "3       -7.1513  10.4490  116.7370      1  \n",
            "4       21.8393   4.6480  356.4620      1  \n",
            "...         ...      ...       ...    ...  \n",
            "19015    2.8766   2.4229  106.8258      0  \n",
            "19016   -2.9632  86.7975  247.4560      0  \n",
            "19017   -9.4662  30.2987  256.5166      0  \n",
            "19018  -63.8389  84.6874  408.3166      0  \n",
            "19019   31.4755  52.7310  272.3174      0  \n",
            "\n",
            "[19020 rows x 11 columns]\n"
          ]
        }
      ],
      "source": [
        "print(df)"
      ]
    },
    {
      "cell_type": "code",
      "execution_count": null,
      "id": "765f2345",
      "metadata": {
        "id": "765f2345",
        "outputId": "c6d0f82b-8b3e-4d87-dcc2-e7e5dee6bd30",
        "colab": {
          "base_uri": "https://localhost:8080/",
          "height": 206
        }
      },
      "outputs": [
        {
          "output_type": "execute_result",
          "data": {
            "text/plain": [
              "    fLength    fWidth   fSize   fConc  fConcl     fAsym  fMllong  fX3Trans  \\\n",
              "0   28.7967   16.0021  2.6449  0.3918  0.1982   27.7004  22.0110   -8.2027   \n",
              "1   31.6036   11.7235  2.5185  0.5303  0.3773   26.2722  23.8238   -9.9574   \n",
              "2  162.0520  136.0310  4.0612  0.0374  0.0187  116.7410 -64.8580  -45.2160   \n",
              "3   23.8172    9.5728  2.3385  0.6147  0.3922   27.2107  -6.4633   -7.1513   \n",
              "4   75.1362   30.9205  3.1611  0.3168  0.1832   -5.5277  28.5525   21.8393   \n",
              "\n",
              "    fAlpha     fDist  class  \n",
              "0  40.0920   81.8828      1  \n",
              "1   6.3609  205.2610      1  \n",
              "2  76.9600  256.7880      1  \n",
              "3  10.4490  116.7370      1  \n",
              "4   4.6480  356.4620      1  "
            ],
            "text/html": [
              "\n",
              "  <div id=\"df-20933e52-24f6-43a4-b5b8-de9237445c23\" class=\"colab-df-container\">\n",
              "    <div>\n",
              "<style scoped>\n",
              "    .dataframe tbody tr th:only-of-type {\n",
              "        vertical-align: middle;\n",
              "    }\n",
              "\n",
              "    .dataframe tbody tr th {\n",
              "        vertical-align: top;\n",
              "    }\n",
              "\n",
              "    .dataframe thead th {\n",
              "        text-align: right;\n",
              "    }\n",
              "</style>\n",
              "<table border=\"1\" class=\"dataframe\">\n",
              "  <thead>\n",
              "    <tr style=\"text-align: right;\">\n",
              "      <th></th>\n",
              "      <th>fLength</th>\n",
              "      <th>fWidth</th>\n",
              "      <th>fSize</th>\n",
              "      <th>fConc</th>\n",
              "      <th>fConcl</th>\n",
              "      <th>fAsym</th>\n",
              "      <th>fMllong</th>\n",
              "      <th>fX3Trans</th>\n",
              "      <th>fAlpha</th>\n",
              "      <th>fDist</th>\n",
              "      <th>class</th>\n",
              "    </tr>\n",
              "  </thead>\n",
              "  <tbody>\n",
              "    <tr>\n",
              "      <th>0</th>\n",
              "      <td>28.7967</td>\n",
              "      <td>16.0021</td>\n",
              "      <td>2.6449</td>\n",
              "      <td>0.3918</td>\n",
              "      <td>0.1982</td>\n",
              "      <td>27.7004</td>\n",
              "      <td>22.0110</td>\n",
              "      <td>-8.2027</td>\n",
              "      <td>40.0920</td>\n",
              "      <td>81.8828</td>\n",
              "      <td>1</td>\n",
              "    </tr>\n",
              "    <tr>\n",
              "      <th>1</th>\n",
              "      <td>31.6036</td>\n",
              "      <td>11.7235</td>\n",
              "      <td>2.5185</td>\n",
              "      <td>0.5303</td>\n",
              "      <td>0.3773</td>\n",
              "      <td>26.2722</td>\n",
              "      <td>23.8238</td>\n",
              "      <td>-9.9574</td>\n",
              "      <td>6.3609</td>\n",
              "      <td>205.2610</td>\n",
              "      <td>1</td>\n",
              "    </tr>\n",
              "    <tr>\n",
              "      <th>2</th>\n",
              "      <td>162.0520</td>\n",
              "      <td>136.0310</td>\n",
              "      <td>4.0612</td>\n",
              "      <td>0.0374</td>\n",
              "      <td>0.0187</td>\n",
              "      <td>116.7410</td>\n",
              "      <td>-64.8580</td>\n",
              "      <td>-45.2160</td>\n",
              "      <td>76.9600</td>\n",
              "      <td>256.7880</td>\n",
              "      <td>1</td>\n",
              "    </tr>\n",
              "    <tr>\n",
              "      <th>3</th>\n",
              "      <td>23.8172</td>\n",
              "      <td>9.5728</td>\n",
              "      <td>2.3385</td>\n",
              "      <td>0.6147</td>\n",
              "      <td>0.3922</td>\n",
              "      <td>27.2107</td>\n",
              "      <td>-6.4633</td>\n",
              "      <td>-7.1513</td>\n",
              "      <td>10.4490</td>\n",
              "      <td>116.7370</td>\n",
              "      <td>1</td>\n",
              "    </tr>\n",
              "    <tr>\n",
              "      <th>4</th>\n",
              "      <td>75.1362</td>\n",
              "      <td>30.9205</td>\n",
              "      <td>3.1611</td>\n",
              "      <td>0.3168</td>\n",
              "      <td>0.1832</td>\n",
              "      <td>-5.5277</td>\n",
              "      <td>28.5525</td>\n",
              "      <td>21.8393</td>\n",
              "      <td>4.6480</td>\n",
              "      <td>356.4620</td>\n",
              "      <td>1</td>\n",
              "    </tr>\n",
              "  </tbody>\n",
              "</table>\n",
              "</div>\n",
              "    <div class=\"colab-df-buttons\">\n",
              "\n",
              "  <div class=\"colab-df-container\">\n",
              "    <button class=\"colab-df-convert\" onclick=\"convertToInteractive('df-20933e52-24f6-43a4-b5b8-de9237445c23')\"\n",
              "            title=\"Convert this dataframe to an interactive table.\"\n",
              "            style=\"display:none;\">\n",
              "\n",
              "  <svg xmlns=\"http://www.w3.org/2000/svg\" height=\"24px\" viewBox=\"0 -960 960 960\">\n",
              "    <path d=\"M120-120v-720h720v720H120Zm60-500h600v-160H180v160Zm220 220h160v-160H400v160Zm0 220h160v-160H400v160ZM180-400h160v-160H180v160Zm440 0h160v-160H620v160ZM180-180h160v-160H180v160Zm440 0h160v-160H620v160Z\"/>\n",
              "  </svg>\n",
              "    </button>\n",
              "\n",
              "  <style>\n",
              "    .colab-df-container {\n",
              "      display:flex;\n",
              "      gap: 12px;\n",
              "    }\n",
              "\n",
              "    .colab-df-convert {\n",
              "      background-color: #E8F0FE;\n",
              "      border: none;\n",
              "      border-radius: 50%;\n",
              "      cursor: pointer;\n",
              "      display: none;\n",
              "      fill: #1967D2;\n",
              "      height: 32px;\n",
              "      padding: 0 0 0 0;\n",
              "      width: 32px;\n",
              "    }\n",
              "\n",
              "    .colab-df-convert:hover {\n",
              "      background-color: #E2EBFA;\n",
              "      box-shadow: 0px 1px 2px rgba(60, 64, 67, 0.3), 0px 1px 3px 1px rgba(60, 64, 67, 0.15);\n",
              "      fill: #174EA6;\n",
              "    }\n",
              "\n",
              "    .colab-df-buttons div {\n",
              "      margin-bottom: 4px;\n",
              "    }\n",
              "\n",
              "    [theme=dark] .colab-df-convert {\n",
              "      background-color: #3B4455;\n",
              "      fill: #D2E3FC;\n",
              "    }\n",
              "\n",
              "    [theme=dark] .colab-df-convert:hover {\n",
              "      background-color: #434B5C;\n",
              "      box-shadow: 0px 1px 3px 1px rgba(0, 0, 0, 0.15);\n",
              "      filter: drop-shadow(0px 1px 2px rgba(0, 0, 0, 0.3));\n",
              "      fill: #FFFFFF;\n",
              "    }\n",
              "  </style>\n",
              "\n",
              "    <script>\n",
              "      const buttonEl =\n",
              "        document.querySelector('#df-20933e52-24f6-43a4-b5b8-de9237445c23 button.colab-df-convert');\n",
              "      buttonEl.style.display =\n",
              "        google.colab.kernel.accessAllowed ? 'block' : 'none';\n",
              "\n",
              "      async function convertToInteractive(key) {\n",
              "        const element = document.querySelector('#df-20933e52-24f6-43a4-b5b8-de9237445c23');\n",
              "        const dataTable =\n",
              "          await google.colab.kernel.invokeFunction('convertToInteractive',\n",
              "                                                    [key], {});\n",
              "        if (!dataTable) return;\n",
              "\n",
              "        const docLinkHtml = 'Like what you see? Visit the ' +\n",
              "          '<a target=\"_blank\" href=https://colab.research.google.com/notebooks/data_table.ipynb>data table notebook</a>'\n",
              "          + ' to learn more about interactive tables.';\n",
              "        element.innerHTML = '';\n",
              "        dataTable['output_type'] = 'display_data';\n",
              "        await google.colab.output.renderOutput(dataTable, element);\n",
              "        const docLink = document.createElement('div');\n",
              "        docLink.innerHTML = docLinkHtml;\n",
              "        element.appendChild(docLink);\n",
              "      }\n",
              "    </script>\n",
              "  </div>\n",
              "\n",
              "\n",
              "<div id=\"df-76e020bd-47e1-441c-8e96-05b486c246a8\">\n",
              "  <button class=\"colab-df-quickchart\" onclick=\"quickchart('df-76e020bd-47e1-441c-8e96-05b486c246a8')\"\n",
              "            title=\"Suggest charts\"\n",
              "            style=\"display:none;\">\n",
              "\n",
              "<svg xmlns=\"http://www.w3.org/2000/svg\" height=\"24px\"viewBox=\"0 0 24 24\"\n",
              "     width=\"24px\">\n",
              "    <g>\n",
              "        <path d=\"M19 3H5c-1.1 0-2 .9-2 2v14c0 1.1.9 2 2 2h14c1.1 0 2-.9 2-2V5c0-1.1-.9-2-2-2zM9 17H7v-7h2v7zm4 0h-2V7h2v10zm4 0h-2v-4h2v4z\"/>\n",
              "    </g>\n",
              "</svg>\n",
              "  </button>\n",
              "\n",
              "<style>\n",
              "  .colab-df-quickchart {\n",
              "      --bg-color: #E8F0FE;\n",
              "      --fill-color: #1967D2;\n",
              "      --hover-bg-color: #E2EBFA;\n",
              "      --hover-fill-color: #174EA6;\n",
              "      --disabled-fill-color: #AAA;\n",
              "      --disabled-bg-color: #DDD;\n",
              "  }\n",
              "\n",
              "  [theme=dark] .colab-df-quickchart {\n",
              "      --bg-color: #3B4455;\n",
              "      --fill-color: #D2E3FC;\n",
              "      --hover-bg-color: #434B5C;\n",
              "      --hover-fill-color: #FFFFFF;\n",
              "      --disabled-bg-color: #3B4455;\n",
              "      --disabled-fill-color: #666;\n",
              "  }\n",
              "\n",
              "  .colab-df-quickchart {\n",
              "    background-color: var(--bg-color);\n",
              "    border: none;\n",
              "    border-radius: 50%;\n",
              "    cursor: pointer;\n",
              "    display: none;\n",
              "    fill: var(--fill-color);\n",
              "    height: 32px;\n",
              "    padding: 0;\n",
              "    width: 32px;\n",
              "  }\n",
              "\n",
              "  .colab-df-quickchart:hover {\n",
              "    background-color: var(--hover-bg-color);\n",
              "    box-shadow: 0 1px 2px rgba(60, 64, 67, 0.3), 0 1px 3px 1px rgba(60, 64, 67, 0.15);\n",
              "    fill: var(--button-hover-fill-color);\n",
              "  }\n",
              "\n",
              "  .colab-df-quickchart-complete:disabled,\n",
              "  .colab-df-quickchart-complete:disabled:hover {\n",
              "    background-color: var(--disabled-bg-color);\n",
              "    fill: var(--disabled-fill-color);\n",
              "    box-shadow: none;\n",
              "  }\n",
              "\n",
              "  .colab-df-spinner {\n",
              "    border: 2px solid var(--fill-color);\n",
              "    border-color: transparent;\n",
              "    border-bottom-color: var(--fill-color);\n",
              "    animation:\n",
              "      spin 1s steps(1) infinite;\n",
              "  }\n",
              "\n",
              "  @keyframes spin {\n",
              "    0% {\n",
              "      border-color: transparent;\n",
              "      border-bottom-color: var(--fill-color);\n",
              "      border-left-color: var(--fill-color);\n",
              "    }\n",
              "    20% {\n",
              "      border-color: transparent;\n",
              "      border-left-color: var(--fill-color);\n",
              "      border-top-color: var(--fill-color);\n",
              "    }\n",
              "    30% {\n",
              "      border-color: transparent;\n",
              "      border-left-color: var(--fill-color);\n",
              "      border-top-color: var(--fill-color);\n",
              "      border-right-color: var(--fill-color);\n",
              "    }\n",
              "    40% {\n",
              "      border-color: transparent;\n",
              "      border-right-color: var(--fill-color);\n",
              "      border-top-color: var(--fill-color);\n",
              "    }\n",
              "    60% {\n",
              "      border-color: transparent;\n",
              "      border-right-color: var(--fill-color);\n",
              "    }\n",
              "    80% {\n",
              "      border-color: transparent;\n",
              "      border-right-color: var(--fill-color);\n",
              "      border-bottom-color: var(--fill-color);\n",
              "    }\n",
              "    90% {\n",
              "      border-color: transparent;\n",
              "      border-bottom-color: var(--fill-color);\n",
              "    }\n",
              "  }\n",
              "</style>\n",
              "\n",
              "  <script>\n",
              "    async function quickchart(key) {\n",
              "      const quickchartButtonEl =\n",
              "        document.querySelector('#' + key + ' button');\n",
              "      quickchartButtonEl.disabled = true;  // To prevent multiple clicks.\n",
              "      quickchartButtonEl.classList.add('colab-df-spinner');\n",
              "      try {\n",
              "        const charts = await google.colab.kernel.invokeFunction(\n",
              "            'suggestCharts', [key], {});\n",
              "      } catch (error) {\n",
              "        console.error('Error during call to suggestCharts:', error);\n",
              "      }\n",
              "      quickchartButtonEl.classList.remove('colab-df-spinner');\n",
              "      quickchartButtonEl.classList.add('colab-df-quickchart-complete');\n",
              "    }\n",
              "    (() => {\n",
              "      let quickchartButtonEl =\n",
              "        document.querySelector('#df-76e020bd-47e1-441c-8e96-05b486c246a8 button');\n",
              "      quickchartButtonEl.style.display =\n",
              "        google.colab.kernel.accessAllowed ? 'block' : 'none';\n",
              "    })();\n",
              "  </script>\n",
              "</div>\n",
              "\n",
              "    </div>\n",
              "  </div>\n"
            ]
          },
          "metadata": {},
          "execution_count": 16
        }
      ],
      "source": [
        "df.head()"
      ]
    },
    {
      "cell_type": "code",
      "execution_count": null,
      "id": "0c94c661",
      "metadata": {
        "editable": true,
        "tags": [],
        "id": "0c94c661",
        "outputId": "c9d6f5ae-8da6-4005-894f-0e042b7aeb11",
        "colab": {
          "base_uri": "https://localhost:8080/",
          "height": 1000
        }
      },
      "outputs": [
        {
          "output_type": "display_data",
          "data": {
            "text/plain": [
              "<Figure size 640x480 with 1 Axes>"
            ],
            "image/png": "[encoded data removed]"
          },
          "metadata": {}
        },
        {
          "output_type": "display_data",
          "data": {
            "text/plain": [
              "<Figure size 640x480 with 1 Axes>"
            ],
            "image/png": "[encoded data removed]"
          },
          "metadata": {}
        },
        {
          "output_type": "display_data",
          "data": {
            "text/plain": [
              "<Figure size 640x480 with 1 Axes>"
            ],
            "image/png": "[encoded data removed]"
          },
          "metadata": {}
        },
        {
          "output_type": "display_data",
          "data": {
            "text/plain": [
              "<Figure size 640x480 with 1 Axes>"
            ],
            "image/png": "[encoded data removed]"
          },
          "metadata": {}
        },
        {
          "output_type": "display_data",
          "data": {
            "text/plain": [
              "<Figure size 640x480 with 1 Axes>"
            ],
            "image/png": "[encoded data removed]"
          },
          "metadata": {}
        },
        {
          "output_type": "display_data",
          "data": {
            "text/plain": [
              "<Figure size 640x480 with 1 Axes>"
            ],
            "image/png": "[encoded data removed]"
          },
          "metadata": {}
        },
        {
          "output_type": "display_data",
          "data": {
            "text/plain": [
              "<Figure size 640x480 with 1 Axes>"
            ],
            "image/png": "[encoded data removed]"
          },
          "metadata": {}
        },
        {
          "output_type": "display_data",
          "data": {
            "text/plain": [
              "<Figure size 640x480 with 1 Axes>"
            ],
            "image/png": "[encoded data removed]"
          },
          "metadata": {}
        },
        {
          "output_type": "display_data",
          "data": {
            "text/plain": [
              "<Figure size 640x480 with 1 Axes>"
            ],
            "image/png": "[encoded data removed]"
          },
          "metadata": {}
        },
        {
          "output_type": "display_data",
          "data": {
            "text/plain": [
              "<Figure size 640x480 with 1 Axes>"
            ],
            "image/png": "[encoded data removed]"
          },
          "metadata": {}
        }
      ],
      "source": [
        "for label in cols[:-1]:\n",
        "    plt.hist( df[ df[\"class\"]==1 ][label], color=\"blue\" , label=\"gamma\" , alpha = 0.7,density=True  )\n",
        "    plt.hist( df[ df[\"class\"]==0 ][label], color=\"red\" , label=\"hadron\" , alpha = 0.7,density=True  )\n",
        "    plt.title(label)\n",
        "    plt.xlabel(label)\n",
        "    plt.ylabel(\"probability\")\n",
        "    plt.legend()\n",
        "    plt.show()"
      ]
    },
    {
      "cell_type": "markdown",
      "id": "f2e68d46",
      "metadata": {
        "id": "f2e68d46"
      },
      "source": [
        "# Train, valiition , Test data set.\n"
      ]
    },
    {
      "cell_type": "code",
      "execution_count": 8,
      "id": "6660074f",
      "metadata": {
        "id": "6660074f"
      },
      "outputs": [],
      "source": [
        "train, valid, test = np.split( df.sample(frac=1) , [int(0.6*len(df)), int(0.8*len(df)) ] )"
      ]
    },
    {
      "cell_type": "code",
      "execution_count": null,
      "id": "fdfe6c74",
      "metadata": {
        "id": "fdfe6c74",
        "outputId": "cad9524c-6f19-41ea-83d5-686ae20a11b6",
        "colab": {
          "base_uri": "https://localhost:8080/"
        }
      },
      "outputs": [
        {
          "output_type": "stream",
          "name": "stdout",
          "text": [
            "        fLength   fWidth   fSize   fConc  fConcl     fAsym   fMllong  \\\n",
            "13755   42.0985  12.1855  2.8162  0.3328  0.1763   -7.5451   22.8265   \n",
            "12841   20.3377  16.3027  2.5164  0.5172  0.3024    1.3912  -10.0307   \n",
            "7742   101.5520  40.4720  4.0642  0.1061  0.0554   80.5110   68.9832   \n",
            "7759    73.0376  22.2678  3.4429  0.1745  0.0932   72.6734   63.8847   \n",
            "17882  154.9610  96.2104  4.3957  0.0560  0.0293 -176.6750 -149.6370   \n",
            "...         ...      ...     ...     ...     ...       ...       ...   \n",
            "13727   14.0343   8.5698  2.4040  0.8757  0.4477   14.7287    4.5391   \n",
            "6673    16.5548  11.2689  2.2480  0.5989  0.3814    0.8921   -4.3425   \n",
            "16382   48.5277  11.9390  2.7705  0.3155  0.1654   -4.1113   16.1417   \n",
            "5934    24.3134  16.6080  2.4354  0.3376  0.1817   -9.9913   -5.1129   \n",
            "8405    18.7017   9.7132  2.3304  0.6402  0.4136  -19.5508  -13.8690   \n",
            "\n",
            "       fX3Trans   fAlpha     fDist  class  \n",
            "13755   -8.9577  57.0152  150.5190      0  \n",
            "12841    4.1745   8.9192  232.5213      0  \n",
            "7742    12.2065   0.2386  318.6290      1  \n",
            "7759    11.8337   2.1300  282.8130      1  \n",
            "17882  -87.2213  89.8408  280.2510      0  \n",
            "...         ...      ...       ...    ...  \n",
            "13727  -11.2749  13.2698  123.2160      0  \n",
            "6673    -7.4694  14.4400  162.2710      1  \n",
            "16382  -12.5540  21.8060   87.7162      0  \n",
            "5934    13.4901  11.9691  171.5300      1  \n",
            "8405    -3.7129   0.8576  188.3000      1  \n",
            "\n",
            "[11412 rows x 11 columns]\n"
          ]
        }
      ],
      "source": [
        "# how we have to scale the data to get propper result else it will beprint( not accurete predication\n",
        "print(train)"
      ]
    },
    {
      "cell_type": "code",
      "execution_count": 10,
      "id": "3639a1a3",
      "metadata": {
        "id": "3639a1a3"
      },
      "outputs": [],
      "source": [
        "def scaledataset(dataframe,oversample=False):\n",
        "    X = dataframe[dataframe.columns[:-1]].values\n",
        "    y = dataframe[dataframe.columns[-1]].values\n",
        "\n",
        "    scaler = StandardScaler()\n",
        "    x = scaler.fit_transform(X)\n",
        "\n",
        "    if oversample:\n",
        "      ros = RandomOverSampler()\n",
        "      X, y = ros.fit_resample(X,y)\n",
        "\n",
        "    data = np.hstack((X, np.reshape(y,(-1,1) )))\n",
        "        #-1 means the len(y)\n",
        "    return data, X, y"
      ]
    },
    {
      "cell_type": "code",
      "execution_count": 11,
      "id": "c54d8d3c",
      "metadata": {
        "id": "c54d8d3c",
        "outputId": "fd04a530-5dd2-4647-bf11-98597d728a24",
        "colab": {
          "base_uri": "https://localhost:8080/"
        }
      },
      "outputs": [
        {
          "output_type": "stream",
          "name": "stdout",
          "text": [
            "7425\n",
            "3987\n"
          ]
        }
      ],
      "source": [
        "print(len(train [ train[\"class\"] == 1])) # Gamas\n",
        "print(len(train [ train[\"class\"] == 0])) #Hadrons\n",
        "\n",
        "# So now we have to over sample the data as the numbers of Hadron data is very less"
      ]
    },
    {
      "cell_type": "code",
      "execution_count": 12,
      "id": "a2ed623d",
      "metadata": {
        "id": "a2ed623d"
      },
      "outputs": [],
      "source": [
        "train, X_train, y_train = scaledataset(train,oversample=True)\n",
        "test, x_test, y_test = scaledataset(test,oversample=False)\n",
        "valid, x_valid, y_valid = scaledataset(valid,oversample=False)"
      ]
    },
    {
      "cell_type": "code",
      "execution_count": null,
      "id": "f3eb2590-f58d-4a46-b65d-d0d9dc746037",
      "metadata": {
        "id": "f3eb2590-f58d-4a46-b65d-d0d9dc746037"
      },
      "outputs": [],
      "source": [
        "# KNN\n",
        "\n",
        "from sklearn.neighbors import KNeighborsClassifier\n",
        "from sklearn.metrics import classification_report\n"
      ]
    },
    {
      "cell_type": "code",
      "execution_count": null,
      "id": "747a5797-75d1-4434-b091-316842204b54",
      "metadata": {
        "id": "747a5797-75d1-4434-b091-316842204b54",
        "outputId": "02cfa9f8-d3b3-4944-d50f-9f44e031508b",
        "colab": {
          "base_uri": "https://localhost:8080/",
          "height": 75
        }
      },
      "outputs": [
        {
          "output_type": "execute_result",
          "data": {
            "text/plain": [
              "KNeighborsClassifier()"
            ],
            "text/html": [
              "<style>#sk-container-id-1 {color: black;background-color: white;}#sk-container-id-1 pre{padding: 0;}#sk-container-id-1 div.sk-toggleable {background-color: white;}#sk-container-id-1 label.sk-toggleable__label {cursor: pointer;display: block;width: 100%;margin-bottom: 0;padding: 0.3em;box-sizing: border-box;text-align: center;}#sk-container-id-1 label.sk-toggleable__label-arrow:before {content: \"▸\";float: left;margin-right: 0.25em;color: #696969;}#sk-container-id-1 label.sk-toggleable__label-arrow:hover:before {color: black;}#sk-container-id-1 div.sk-estimator:hover label.sk-toggleable__label-arrow:before {color: black;}#sk-container-id-1 div.sk-toggleable__content {max-height: 0;max-width: 0;overflow: hidden;text-align: left;background-color: #f0f8ff;}#sk-container-id-1 div.sk-toggleable__content pre {margin: 0.2em;color: black;border-radius: 0.25em;background-color: #f0f8ff;}#sk-container-id-1 input.sk-toggleable__control:checked~div.sk-toggleable__content {max-height: 200px;max-width: 100%;overflow: auto;}#sk-container-id-1 input.sk-toggleable__control:checked~label.sk-toggleable__label-arrow:before {content: \"▾\";}#sk-container-id-1 div.sk-estimator input.sk-toggleable__control:checked~label.sk-toggleable__label {background-color: #d4ebff;}#sk-container-id-1 div.sk-label input.sk-toggleable__control:checked~label.sk-toggleable__label {background-color: #d4ebff;}#sk-container-id-1 input.sk-hidden--visually {border: 0;clip: rect(1px 1px 1px 1px);clip: rect(1px, 1px, 1px, 1px);height: 1px;margin: -1px;overflow: hidden;padding: 0;position: absolute;width: 1px;}#sk-container-id-1 div.sk-estimator {font-family: monospace;background-color: #f0f8ff;border: 1px dotted black;border-radius: 0.25em;box-sizing: border-box;margin-bottom: 0.5em;}#sk-container-id-1 div.sk-estimator:hover {background-color: #d4ebff;}#sk-container-id-1 div.sk-parallel-item::after {content: \"\";width: 100%;border-bottom: 1px solid gray;flex-grow: 1;}#sk-container-id-1 div.sk-label:hover label.sk-toggleable__label {background-color: #d4ebff;}#sk-container-id-1 div.sk-serial::before {content: \"\";position: absolute;border-left: 1px solid gray;box-sizing: border-box;top: 0;bottom: 0;left: 50%;z-index: 0;}#sk-container-id-1 div.sk-serial {display: flex;flex-direction: column;align-items: center;background-color: white;padding-right: 0.2em;padding-left: 0.2em;position: relative;}#sk-container-id-1 div.sk-item {position: relative;z-index: 1;}#sk-container-id-1 div.sk-parallel {display: flex;align-items: stretch;justify-content: center;background-color: white;position: relative;}#sk-container-id-1 div.sk-item::before, #sk-container-id-1 div.sk-parallel-item::before {content: \"\";position: absolute;border-left: 1px solid gray;box-sizing: border-box;top: 0;bottom: 0;left: 50%;z-index: -1;}#sk-container-id-1 div.sk-parallel-item {display: flex;flex-direction: column;z-index: 1;position: relative;background-color: white;}#sk-container-id-1 div.sk-parallel-item:first-child::after {align-self: flex-end;width: 50%;}#sk-container-id-1 div.sk-parallel-item:last-child::after {align-self: flex-start;width: 50%;}#sk-container-id-1 div.sk-parallel-item:only-child::after {width: 0;}#sk-container-id-1 div.sk-dashed-wrapped {border: 1px dashed gray;margin: 0 0.4em 0.5em 0.4em;box-sizing: border-box;padding-bottom: 0.4em;background-color: white;}#sk-container-id-1 div.sk-label label {font-family: monospace;font-weight: bold;display: inline-block;line-height: 1.2em;}#sk-container-id-1 div.sk-label-container {text-align: center;}#sk-container-id-1 div.sk-container {/* jupyter's `normalize.less` sets `[hidden] { display: none; }` but bootstrap.min.css set `[hidden] { display: none !important; }` so we also need the `!important` here to be able to override the default hidden behavior on the sphinx rendered scikit-learn.org. See: https://github.com/scikit-learn/scikit-learn/issues/21755 */display: inline-block !important;position: relative;}#sk-container-id-1 div.sk-text-repr-fallback {display: none;}</style><div id=\"sk-container-id-1\" class=\"sk-top-container\"><div class=\"sk-text-repr-fallback\"><pre>KNeighborsClassifier()</pre><b>In a Jupyter environment, please rerun this cell to show the HTML representation or trust the notebook. <br />On GitHub, the HTML representation is unable to render, please try loading this page with nbviewer.org.</b></div><div class=\"sk-container\" hidden><div class=\"sk-item\"><div class=\"sk-estimator sk-toggleable\"><input class=\"sk-toggleable__control sk-hidden--visually\" id=\"sk-estimator-id-1\" type=\"checkbox\" checked><label for=\"sk-estimator-id-1\" class=\"sk-toggleable__label sk-toggleable__label-arrow\">KNeighborsClassifier</label><div class=\"sk-toggleable__content\"><pre>KNeighborsClassifier()</pre></div></div></div></div></div>"
            ]
          },
          "metadata": {},
          "execution_count": 25
        }
      ],
      "source": [
        "knn_model = KNeighborsClassifier(n_neighbors=5)\n",
        "knn_model.fit(X_train,y_train)"
      ]
    },
    {
      "cell_type": "code",
      "execution_count": null,
      "id": "babb8501-5790-418e-b875-308307fc46d1",
      "metadata": {
        "id": "babb8501-5790-418e-b875-308307fc46d1"
      },
      "outputs": [],
      "source": [
        "\n",
        "y_predict = knn_model.predict(x_test)\n"
      ]
    },
    {
      "cell_type": "code",
      "execution_count": null,
      "id": "859e67d8-52f1-4cad-a78e-833dd784952e",
      "metadata": {
        "id": "859e67d8-52f1-4cad-a78e-833dd784952e",
        "outputId": "12786210-c083-4a42-de7d-48fa980932e9",
        "colab": {
          "base_uri": "https://localhost:8080/"
        }
      },
      "outputs": [
        {
          "output_type": "execute_result",
          "data": {
            "text/plain": [
              "array([0, 0, 1, ..., 0, 1, 0])"
            ]
          },
          "metadata": {},
          "execution_count": 27
        }
      ],
      "source": [
        "y_predict"
      ]
    },
    {
      "cell_type": "code",
      "execution_count": null,
      "id": "2cd5fdad-9213-4aa3-8bc1-fcaa64db6d8d",
      "metadata": {
        "id": "2cd5fdad-9213-4aa3-8bc1-fcaa64db6d8d",
        "outputId": "85355fbe-0a5a-4789-deaf-6a97a699a685",
        "colab": {
          "base_uri": "https://localhost:8080/"
        }
      },
      "outputs": [
        {
          "output_type": "execute_result",
          "data": {
            "text/plain": [
              "array([0, 0, 1, ..., 0, 0, 1])"
            ]
          },
          "metadata": {},
          "execution_count": 28
        }
      ],
      "source": [
        "y_test"
      ]
    },
    {
      "cell_type": "code",
      "execution_count": null,
      "id": "276dad3d-457f-426a-9a1a-34117f3bd9db",
      "metadata": {
        "id": "276dad3d-457f-426a-9a1a-34117f3bd9db",
        "outputId": "4620acdb-9e11-40d9-b277-d541619ebff6",
        "colab": {
          "base_uri": "https://localhost:8080/"
        }
      },
      "outputs": [
        {
          "output_type": "stream",
          "name": "stdout",
          "text": [
            "              precision    recall  f1-score   support\n",
            "\n",
            "           0       0.68      0.71      0.69      1342\n",
            "           1       0.84      0.82      0.83      2462\n",
            "\n",
            "    accuracy                           0.78      3804\n",
            "   macro avg       0.76      0.76      0.76      3804\n",
            "weighted avg       0.78      0.78      0.78      3804\n",
            "\n"
          ]
        }
      ],
      "source": [
        "print(classification_report(y_test,y_predict))"
      ]
    },
    {
      "cell_type": "code",
      "execution_count": null,
      "id": "53876ab0-b92f-4ecb-96d3-0505cc816fb8",
      "metadata": {
        "id": "53876ab0-b92f-4ecb-96d3-0505cc816fb8",
        "outputId": "f7e4838b-8a27-4108-83e5-bb106c9a0a63",
        "colab": {
          "base_uri": "https://localhost:8080/"
        }
      },
      "outputs": [
        {
          "output_type": "stream",
          "name": "stdout",
          "text": [
            "              precision    recall  f1-score   support\n",
            "\n",
            "           0       0.68      0.71      0.69      1342\n",
            "           1       0.84      0.82      0.83      2462\n",
            "\n",
            "    accuracy                           0.78      3804\n",
            "   macro avg       0.76      0.76      0.76      3804\n",
            "weighted avg       0.78      0.78      0.78      3804\n",
            "\n"
          ]
        }
      ],
      "source": [
        "print(classification_report(y_test,y_predict))"
      ]
    },
    {
      "cell_type": "code",
      "execution_count": null,
      "id": "cac7a953-4cac-4074-8d57-b81e0facb126",
      "metadata": {
        "id": "cac7a953-4cac-4074-8d57-b81e0facb126",
        "outputId": "75834487-673c-4651-c1f3-a2222b41c6f6",
        "colab": {
          "base_uri": "https://localhost:8080/"
        }
      },
      "outputs": [
        {
          "output_type": "stream",
          "name": "stdout",
          "text": [
            "              precision    recall  f1-score   support\n",
            "\n",
            "           0       0.68      0.71      0.69      1342\n",
            "           1       0.84      0.82      0.83      2462\n",
            "\n",
            "    accuracy                           0.78      3804\n",
            "   macro avg       0.76      0.76      0.76      3804\n",
            "weighted avg       0.78      0.78      0.78      3804\n",
            "\n"
          ]
        }
      ],
      "source": [
        "print(classification_report(y_test,y_predict))"
      ]
    },
    {
      "cell_type": "markdown",
      "id": "a8e3eecd-cbd1-4b0c-a475-4aa04e5c74ff",
      "metadata": {
        "id": "a8e3eecd-cbd1-4b0c-a475-4aa04e5c74ff"
      },
      "source": [
        "# Naive Bayes\n"
      ]
    },
    {
      "cell_type": "code",
      "execution_count": null,
      "id": "c29080af-a820-4435-9fea-e711055b0e9b",
      "metadata": {
        "id": "c29080af-a820-4435-9fea-e711055b0e9b"
      },
      "outputs": [],
      "source": [
        "from sklearn.naive_bayes import GaussianNB"
      ]
    },
    {
      "cell_type": "code",
      "execution_count": null,
      "id": "dea589bf-a950-4d31-b003-9afc6c7f3fd1",
      "metadata": {
        "id": "dea589bf-a950-4d31-b003-9afc6c7f3fd1"
      },
      "outputs": [],
      "source": [
        "nb_model = GaussianNB()"
      ]
    },
    {
      "cell_type": "code",
      "execution_count": null,
      "id": "3876fa13-916f-44c4-b46a-f30f34251d29",
      "metadata": {
        "id": "3876fa13-916f-44c4-b46a-f30f34251d29",
        "outputId": "03b7c929-9ec8-4867-eb99-8d1d8b31230e",
        "colab": {
          "base_uri": "https://localhost:8080/",
          "height": 75
        }
      },
      "outputs": [
        {
          "output_type": "execute_result",
          "data": {
            "text/plain": [
              "GaussianNB()"
            ],
            "text/html": [
              "<style>#sk-container-id-2 {color: black;background-color: white;}#sk-container-id-2 pre{padding: 0;}#sk-container-id-2 div.sk-toggleable {background-color: white;}#sk-container-id-2 label.sk-toggleable__label {cursor: pointer;display: block;width: 100%;margin-bottom: 0;padding: 0.3em;box-sizing: border-box;text-align: center;}#sk-container-id-2 label.sk-toggleable__label-arrow:before {content: \"▸\";float: left;margin-right: 0.25em;color: #696969;}#sk-container-id-2 label.sk-toggleable__label-arrow:hover:before {color: black;}#sk-container-id-2 div.sk-estimator:hover label.sk-toggleable__label-arrow:before {color: black;}#sk-container-id-2 div.sk-toggleable__content {max-height: 0;max-width: 0;overflow: hidden;text-align: left;background-color: #f0f8ff;}#sk-container-id-2 div.sk-toggleable__content pre {margin: 0.2em;color: black;border-radius: 0.25em;background-color: #f0f8ff;}#sk-container-id-2 input.sk-toggleable__control:checked~div.sk-toggleable__content {max-height: 200px;max-width: 100%;overflow: auto;}#sk-container-id-2 input.sk-toggleable__control:checked~label.sk-toggleable__label-arrow:before {content: \"▾\";}#sk-container-id-2 div.sk-estimator input.sk-toggleable__control:checked~label.sk-toggleable__label {background-color: #d4ebff;}#sk-container-id-2 div.sk-label input.sk-toggleable__control:checked~label.sk-toggleable__label {background-color: #d4ebff;}#sk-container-id-2 input.sk-hidden--visually {border: 0;clip: rect(1px 1px 1px 1px);clip: rect(1px, 1px, 1px, 1px);height: 1px;margin: -1px;overflow: hidden;padding: 0;position: absolute;width: 1px;}#sk-container-id-2 div.sk-estimator {font-family: monospace;background-color: #f0f8ff;border: 1px dotted black;border-radius: 0.25em;box-sizing: border-box;margin-bottom: 0.5em;}#sk-container-id-2 div.sk-estimator:hover {background-color: #d4ebff;}#sk-container-id-2 div.sk-parallel-item::after {content: \"\";width: 100%;border-bottom: 1px solid gray;flex-grow: 1;}#sk-container-id-2 div.sk-label:hover label.sk-toggleable__label {background-color: #d4ebff;}#sk-container-id-2 div.sk-serial::before {content: \"\";position: absolute;border-left: 1px solid gray;box-sizing: border-box;top: 0;bottom: 0;left: 50%;z-index: 0;}#sk-container-id-2 div.sk-serial {display: flex;flex-direction: column;align-items: center;background-color: white;padding-right: 0.2em;padding-left: 0.2em;position: relative;}#sk-container-id-2 div.sk-item {position: relative;z-index: 1;}#sk-container-id-2 div.sk-parallel {display: flex;align-items: stretch;justify-content: center;background-color: white;position: relative;}#sk-container-id-2 div.sk-item::before, #sk-container-id-2 div.sk-parallel-item::before {content: \"\";position: absolute;border-left: 1px solid gray;box-sizing: border-box;top: 0;bottom: 0;left: 50%;z-index: -1;}#sk-container-id-2 div.sk-parallel-item {display: flex;flex-direction: column;z-index: 1;position: relative;background-color: white;}#sk-container-id-2 div.sk-parallel-item:first-child::after {align-self: flex-end;width: 50%;}#sk-container-id-2 div.sk-parallel-item:last-child::after {align-self: flex-start;width: 50%;}#sk-container-id-2 div.sk-parallel-item:only-child::after {width: 0;}#sk-container-id-2 div.sk-dashed-wrapped {border: 1px dashed gray;margin: 0 0.4em 0.5em 0.4em;box-sizing: border-box;padding-bottom: 0.4em;background-color: white;}#sk-container-id-2 div.sk-label label {font-family: monospace;font-weight: bold;display: inline-block;line-height: 1.2em;}#sk-container-id-2 div.sk-label-container {text-align: center;}#sk-container-id-2 div.sk-container {/* jupyter's `normalize.less` sets `[hidden] { display: none; }` but bootstrap.min.css set `[hidden] { display: none !important; }` so we also need the `!important` here to be able to override the default hidden behavior on the sphinx rendered scikit-learn.org. See: https://github.com/scikit-learn/scikit-learn/issues/21755 */display: inline-block !important;position: relative;}#sk-container-id-2 div.sk-text-repr-fallback {display: none;}</style><div id=\"sk-container-id-2\" class=\"sk-top-container\"><div class=\"sk-text-repr-fallback\"><pre>GaussianNB()</pre><b>In a Jupyter environment, please rerun this cell to show the HTML representation or trust the notebook. <br />On GitHub, the HTML representation is unable to render, please try loading this page with nbviewer.org.</b></div><div class=\"sk-container\" hidden><div class=\"sk-item\"><div class=\"sk-estimator sk-toggleable\"><input class=\"sk-toggleable__control sk-hidden--visually\" id=\"sk-estimator-id-2\" type=\"checkbox\" checked><label for=\"sk-estimator-id-2\" class=\"sk-toggleable__label sk-toggleable__label-arrow\">GaussianNB</label><div class=\"sk-toggleable__content\"><pre>GaussianNB()</pre></div></div></div></div></div>"
            ]
          },
          "metadata": {},
          "execution_count": 34
        }
      ],
      "source": [
        "nb_model.fit(X_train,y_train)"
      ]
    },
    {
      "cell_type": "code",
      "execution_count": null,
      "id": "3e33a3d2-09f7-4eef-a8a3-336a7180c0aa",
      "metadata": {
        "id": "3e33a3d2-09f7-4eef-a8a3-336a7180c0aa"
      },
      "outputs": [],
      "source": [
        "y_predict = nb_model.predict(x_test)"
      ]
    },
    {
      "cell_type": "code",
      "execution_count": null,
      "id": "75df1e00-5fcb-4bd3-9317-14ab638291d0",
      "metadata": {
        "id": "75df1e00-5fcb-4bd3-9317-14ab638291d0",
        "outputId": "f02f15e1-bc34-4b99-f7d7-326885567be1",
        "colab": {
          "base_uri": "https://localhost:8080/"
        }
      },
      "outputs": [
        {
          "output_type": "stream",
          "name": "stdout",
          "text": [
            "              precision    recall  f1-score   support\n",
            "\n",
            "           0       0.72      0.44      0.54      1342\n",
            "           1       0.75      0.91      0.82      2462\n",
            "\n",
            "    accuracy                           0.74      3804\n",
            "   macro avg       0.73      0.67      0.68      3804\n",
            "weighted avg       0.74      0.74      0.72      3804\n",
            "\n"
          ]
        }
      ],
      "source": [
        "print(classification_report(y_test,y_predict))"
      ]
    },
    {
      "cell_type": "markdown",
      "id": "5fa6c97a-be5c-4b13-bbe9-d63b92640bbe",
      "metadata": {
        "id": "5fa6c97a-be5c-4b13-bbe9-d63b92640bbe"
      },
      "source": [
        "# SVM"
      ]
    },
    {
      "cell_type": "code",
      "execution_count": null,
      "id": "a70ffe55-59f8-4a1f-8f0d-346f40d849c7",
      "metadata": {
        "id": "a70ffe55-59f8-4a1f-8f0d-346f40d849c7"
      },
      "outputs": [],
      "source": [
        "from sklearn.svm import SVC"
      ]
    },
    {
      "cell_type": "code",
      "execution_count": null,
      "id": "53ab1adb-c031-4ec6-b0aa-dac8bced6f64",
      "metadata": {
        "id": "53ab1adb-c031-4ec6-b0aa-dac8bced6f64",
        "outputId": "4f280cc0-7348-4fee-e3c3-219668931382",
        "colab": {
          "base_uri": "https://localhost:8080/"
        }
      },
      "outputs": [
        {
          "output_type": "stream",
          "name": "stdout",
          "text": [
            "CPU times: user 9.59 s, sys: 335 ms, total: 9.92 s\n",
            "Wall time: 11.2 s\n"
          ]
        }
      ],
      "source": [
        "%%time\n",
        "svm_model = SVC()\n",
        "svm_model = svm_model.fit(X_train,y_train)"
      ]
    },
    {
      "cell_type": "code",
      "execution_count": null,
      "id": "89aaed8d-09de-4b1f-ba26-0436d090283b",
      "metadata": {
        "id": "89aaed8d-09de-4b1f-ba26-0436d090283b"
      },
      "outputs": [],
      "source": [
        "Y_predict = svm_model.predict(x_test)"
      ]
    },
    {
      "cell_type": "code",
      "execution_count": null,
      "id": "b3942d5b-d976-4959-98f5-8f69542b39da",
      "metadata": {
        "id": "b3942d5b-d976-4959-98f5-8f69542b39da",
        "outputId": "af536ce4-8d59-4448-f0da-73cb5b6e24f6",
        "colab": {
          "base_uri": "https://localhost:8080/"
        }
      },
      "outputs": [
        {
          "output_type": "stream",
          "name": "stdout",
          "text": [
            "              precision    recall  f1-score   support\n",
            "\n",
            "           0       0.74      0.74      0.74      1342\n",
            "           1       0.86      0.86      0.86      2462\n",
            "\n",
            "    accuracy                           0.82      3804\n",
            "   macro avg       0.80      0.80      0.80      3804\n",
            "weighted avg       0.82      0.82      0.82      3804\n",
            "\n"
          ]
        }
      ],
      "source": [
        "print(classification_report(y_test,Y_predict))"
      ]
    },
    {
      "cell_type": "markdown",
      "id": "468fdea3-e4f1-4b30-b5c8-7642bbd8c9ef",
      "metadata": {
        "id": "468fdea3-e4f1-4b30-b5c8-7642bbd8c9ef"
      },
      "source": [
        "# Neural Network"
      ]
    },
    {
      "cell_type": "code",
      "execution_count": 13,
      "id": "915952d4-4776-4d3b-89f0-424b426dc126",
      "metadata": {
        "id": "915952d4-4776-4d3b-89f0-424b426dc126"
      },
      "outputs": [],
      "source": [
        "import tensorflow as tf"
      ]
    },
    {
      "cell_type": "code",
      "execution_count": 14,
      "id": "c866ec66-5ef2-493c-8627-83a1613849f6",
      "metadata": {
        "id": "c866ec66-5ef2-493c-8627-83a1613849f6"
      },
      "outputs": [],
      "source": [
        "\n",
        "def plot_loss_accuracy(history):\n",
        "    fig, (ax1,ax2) = plt.subplots(1,2,figsize=(10,6))\n",
        "\n",
        "    ax1.plot(history.history['loss'],label='loss' )\n",
        "    ax1.plot(history.history['val_loss'],label='val_loss')\n",
        "    ax1.set_ylabel('Binary crossentropy')\n",
        "    ax1.set_xlabel('Epoch')\n",
        "\n",
        "\n",
        "    ax2.plot(history.history['accuracy'],label='accuracy')\n",
        "    ax2.plot(history.history['val_accuracy'],label='accuracy')\n",
        "    ax2.set_ylabel('Accuracy')\n",
        "    ax2.set_xlabel('Epoch')\n",
        "\n",
        "    ax1.legend()\n",
        "    ax1.grid(True)\n",
        "    ax2.legend()\n",
        "    ax2.grid(True)\n",
        "\n",
        "    plt.show()"
      ]
    },
    {
      "cell_type": "code",
      "execution_count": 15,
      "id": "3e828401-3ddd-4713-ab1a-ddda11abe4ef",
      "metadata": {
        "id": "3e828401-3ddd-4713-ab1a-ddda11abe4ef"
      },
      "outputs": [],
      "source": [
        "nn_model = tf.keras.Sequential([\n",
        "    tf.keras.layers.Dense(32,activation=\"relu\"),\n",
        "    tf.keras.layers.Dense(32,activation=\"relu\"),\n",
        "    tf.keras.layers.Dense(1,activation=\"sigmoid\")\n",
        "    ])\n",
        "\n",
        "nn_model.compile(optimizer=tf.keras.optimizers.Adam(0.001), loss=\"binary_crossentropy\", metrics=['accuracy'])"
      ]
    },
    {
      "cell_type": "code",
      "execution_count": null,
      "id": "0ac634f3-0152-4e73-b4cc-f94e57b8013e",
      "metadata": {
        "scrolled": true,
        "id": "0ac634f3-0152-4e73-b4cc-f94e57b8013e",
        "outputId": "988376ec-a3b6-4392-9fcc-56cd8d886232",
        "colab": {
          "base_uri": "https://localhost:8080/"
        }
      },
      "outputs": [
        {
          "output_type": "stream",
          "name": "stdout",
          "text": [
            "Epoch 1/100\n",
            "371/371 [==============================] - 3s 7ms/step - loss: 0.4551 - accuracy: 0.7895 - val_loss: 1.2834 - val_accuracy: 0.4190\n",
            "Epoch 2/100\n",
            "371/371 [==============================] - 3s 8ms/step - loss: 0.4485 - accuracy: 0.7947 - val_loss: 0.5041 - val_accuracy: 0.7397\n",
            "Epoch 3/100\n",
            "371/371 [==============================] - 1s 4ms/step - loss: 0.4408 - accuracy: 0.7964 - val_loss: 0.5394 - val_accuracy: 0.7184\n",
            "Epoch 4/100\n",
            "371/371 [==============================] - 2s 4ms/step - loss: 0.4336 - accuracy: 0.8028 - val_loss: 0.8590 - val_accuracy: 0.5233\n",
            "Epoch 5/100\n",
            "371/371 [==============================] - 2s 4ms/step - loss: 0.4363 - accuracy: 0.8015 - val_loss: 1.4258 - val_accuracy: 0.3815\n",
            "Epoch 6/100\n",
            "371/371 [==============================] - 1s 4ms/step - loss: 0.4450 - accuracy: 0.7943 - val_loss: 0.5413 - val_accuracy: 0.7137\n",
            "Epoch 7/100\n",
            "371/371 [==============================] - 1s 2ms/step - loss: 0.4477 - accuracy: 0.7952 - val_loss: 1.1833 - val_accuracy: 0.4521\n",
            "Epoch 8/100\n",
            "371/371 [==============================] - 1s 3ms/step - loss: 0.4260 - accuracy: 0.8046 - val_loss: 0.4303 - val_accuracy: 0.7853\n",
            "Epoch 9/100\n",
            "371/371 [==============================] - 1s 3ms/step - loss: 0.4386 - accuracy: 0.7991 - val_loss: 0.6351 - val_accuracy: 0.6675\n",
            "Epoch 10/100\n",
            "371/371 [==============================] - 1s 3ms/step - loss: 0.4301 - accuracy: 0.8031 - val_loss: 0.5422 - val_accuracy: 0.7046\n",
            "Epoch 11/100\n",
            "371/371 [==============================] - 1s 3ms/step - loss: 0.4206 - accuracy: 0.8080 - val_loss: 0.4296 - val_accuracy: 0.7839\n",
            "Epoch 12/100\n",
            "371/371 [==============================] - 1s 2ms/step - loss: 0.4139 - accuracy: 0.8090 - val_loss: 0.4755 - val_accuracy: 0.7508\n",
            "Epoch 13/100\n",
            "371/371 [==============================] - 1s 2ms/step - loss: 0.4217 - accuracy: 0.8075 - val_loss: 0.6298 - val_accuracy: 0.6472\n",
            "Epoch 14/100\n",
            "371/371 [==============================] - 1s 2ms/step - loss: 0.4240 - accuracy: 0.8066 - val_loss: 0.6510 - val_accuracy: 0.6249\n",
            "Epoch 15/100\n",
            "371/371 [==============================] - 1s 2ms/step - loss: 0.4220 - accuracy: 0.8057 - val_loss: 0.5582 - val_accuracy: 0.7076\n",
            "Epoch 16/100\n",
            "371/371 [==============================] - 1s 2ms/step - loss: 0.4134 - accuracy: 0.8119 - val_loss: 0.3323 - val_accuracy: 0.8325\n",
            "Epoch 17/100\n",
            "371/371 [==============================] - 1s 2ms/step - loss: 0.4320 - accuracy: 0.8021 - val_loss: 0.5233 - val_accuracy: 0.7194\n",
            "Epoch 18/100\n",
            "371/371 [==============================] - 1s 2ms/step - loss: 0.4121 - accuracy: 0.8118 - val_loss: 0.4524 - val_accuracy: 0.7650\n",
            "Epoch 19/100\n",
            "371/371 [==============================] - 1s 2ms/step - loss: 0.4107 - accuracy: 0.8150 - val_loss: 0.3890 - val_accuracy: 0.7984\n",
            "Epoch 20/100\n",
            "371/371 [==============================] - 1s 2ms/step - loss: 0.4077 - accuracy: 0.8206 - val_loss: 0.8352 - val_accuracy: 0.5591\n",
            "Epoch 21/100\n",
            "371/371 [==============================] - 1s 2ms/step - loss: 0.4113 - accuracy: 0.8187 - val_loss: 0.6447 - val_accuracy: 0.6381\n",
            "Epoch 22/100\n",
            "371/371 [==============================] - 1s 2ms/step - loss: 0.4053 - accuracy: 0.8186 - val_loss: 0.4701 - val_accuracy: 0.7394\n",
            "Epoch 23/100\n",
            "371/371 [==============================] - 1s 2ms/step - loss: 0.4035 - accuracy: 0.8174 - val_loss: 0.5178 - val_accuracy: 0.7235\n",
            "Epoch 24/100\n",
            "371/371 [==============================] - 1s 4ms/step - loss: 0.4017 - accuracy: 0.8177 - val_loss: 0.5819 - val_accuracy: 0.6759\n",
            "Epoch 25/100\n",
            "371/371 [==============================] - 1s 4ms/step - loss: 0.4001 - accuracy: 0.8188 - val_loss: 0.5354 - val_accuracy: 0.7161\n",
            "Epoch 26/100\n",
            "371/371 [==============================] - 1s 3ms/step - loss: 0.4037 - accuracy: 0.8158 - val_loss: 0.5649 - val_accuracy: 0.7090\n",
            "Epoch 27/100\n",
            "371/371 [==============================] - 1s 2ms/step - loss: 0.3921 - accuracy: 0.8235 - val_loss: 0.5014 - val_accuracy: 0.7255\n",
            "Epoch 28/100\n",
            "371/371 [==============================] - 1s 2ms/step - loss: 0.3983 - accuracy: 0.8199 - val_loss: 0.5622 - val_accuracy: 0.6894\n",
            "Epoch 29/100\n",
            "371/371 [==============================] - 1s 2ms/step - loss: 0.3994 - accuracy: 0.8161 - val_loss: 0.5198 - val_accuracy: 0.7286\n",
            "Epoch 30/100\n",
            "371/371 [==============================] - 1s 2ms/step - loss: 0.3964 - accuracy: 0.8199 - val_loss: 0.6224 - val_accuracy: 0.6783\n",
            "Epoch 31/100\n",
            "371/371 [==============================] - 1s 2ms/step - loss: 0.3937 - accuracy: 0.8236 - val_loss: 0.5116 - val_accuracy: 0.7346\n",
            "Epoch 32/100\n",
            "371/371 [==============================] - 1s 2ms/step - loss: 0.3955 - accuracy: 0.8207 - val_loss: 0.5294 - val_accuracy: 0.7174\n",
            "Epoch 33/100\n",
            "371/371 [==============================] - 1s 2ms/step - loss: 0.3936 - accuracy: 0.8212 - val_loss: 0.6136 - val_accuracy: 0.6766\n",
            "Epoch 34/100\n",
            "371/371 [==============================] - 1s 2ms/step - loss: 0.3896 - accuracy: 0.8261 - val_loss: 0.4863 - val_accuracy: 0.7346\n",
            "Epoch 35/100\n",
            "371/371 [==============================] - 1s 2ms/step - loss: 0.3906 - accuracy: 0.8245 - val_loss: 0.7948 - val_accuracy: 0.5959\n",
            "Epoch 36/100\n",
            "371/371 [==============================] - 1s 4ms/step - loss: 0.3892 - accuracy: 0.8225 - val_loss: 0.5763 - val_accuracy: 0.6820\n",
            "Epoch 37/100\n",
            "371/371 [==============================] - 3s 7ms/step - loss: 0.3912 - accuracy: 0.8214 - val_loss: 0.4260 - val_accuracy: 0.7839\n",
            "Epoch 38/100\n",
            "371/371 [==============================] - 3s 8ms/step - loss: 0.3847 - accuracy: 0.8250 - val_loss: 0.6566 - val_accuracy: 0.6239\n",
            "Epoch 39/100\n",
            "371/371 [==============================] - 2s 5ms/step - loss: 0.3876 - accuracy: 0.8257 - val_loss: 0.7738 - val_accuracy: 0.5901\n",
            "Epoch 40/100\n",
            "371/371 [==============================] - 1s 4ms/step - loss: 0.3802 - accuracy: 0.8283 - val_loss: 0.6549 - val_accuracy: 0.6499\n",
            "Epoch 41/100\n",
            "371/371 [==============================] - 2s 4ms/step - loss: 0.3863 - accuracy: 0.8259 - val_loss: 0.6696 - val_accuracy: 0.6249\n",
            "Epoch 42/100\n",
            "371/371 [==============================] - 2s 4ms/step - loss: 0.3809 - accuracy: 0.8272 - val_loss: 0.4679 - val_accuracy: 0.7481\n",
            "Epoch 43/100\n",
            "371/371 [==============================] - 1s 4ms/step - loss: 0.3874 - accuracy: 0.8301 - val_loss: 0.5901 - val_accuracy: 0.6992\n",
            "Epoch 44/100\n",
            "371/371 [==============================] - 1s 4ms/step - loss: 0.3823 - accuracy: 0.8262 - val_loss: 0.5510 - val_accuracy: 0.6948\n",
            "Epoch 45/100\n",
            "371/371 [==============================] - 1s 3ms/step - loss: 0.3828 - accuracy: 0.8263 - val_loss: 0.4972 - val_accuracy: 0.7282\n",
            "Epoch 46/100\n",
            "371/371 [==============================] - 1s 4ms/step - loss: 0.3800 - accuracy: 0.8292 - val_loss: 0.5164 - val_accuracy: 0.7248\n",
            "Epoch 47/100\n",
            "371/371 [==============================] - 1s 3ms/step - loss: 0.3793 - accuracy: 0.8286 - val_loss: 0.6278 - val_accuracy: 0.6820\n",
            "Epoch 48/100\n",
            "371/371 [==============================] - 1s 3ms/step - loss: 0.3751 - accuracy: 0.8331 - val_loss: 0.4958 - val_accuracy: 0.7282\n",
            "Epoch 49/100\n",
            "371/371 [==============================] - 1s 2ms/step - loss: 0.3778 - accuracy: 0.8305 - val_loss: 0.4534 - val_accuracy: 0.7475\n",
            "Epoch 50/100\n",
            "371/371 [==============================] - 1s 2ms/step - loss: 0.3772 - accuracy: 0.8281 - val_loss: 0.5824 - val_accuracy: 0.6685\n",
            "Epoch 51/100\n",
            "371/371 [==============================] - 1s 2ms/step - loss: 0.3755 - accuracy: 0.8287 - val_loss: 0.5710 - val_accuracy: 0.6793\n",
            "Epoch 52/100\n",
            "371/371 [==============================] - 1s 2ms/step - loss: 0.3770 - accuracy: 0.8307 - val_loss: 0.6445 - val_accuracy: 0.6634\n",
            "Epoch 53/100\n",
            "371/371 [==============================] - 1s 2ms/step - loss: 0.3727 - accuracy: 0.8316 - val_loss: 0.5973 - val_accuracy: 0.6533\n",
            "Epoch 54/100\n",
            "371/371 [==============================] - 1s 2ms/step - loss: 0.3734 - accuracy: 0.8316 - val_loss: 0.4775 - val_accuracy: 0.7181\n",
            "Epoch 55/100\n",
            "371/371 [==============================] - 1s 2ms/step - loss: 0.3725 - accuracy: 0.8330 - val_loss: 0.5641 - val_accuracy: 0.6887\n",
            "Epoch 56/100\n",
            "371/371 [==============================] - 1s 2ms/step - loss: 0.3758 - accuracy: 0.8321 - val_loss: 0.7065 - val_accuracy: 0.6249\n",
            "Epoch 57/100\n",
            "371/371 [==============================] - 1s 2ms/step - loss: 0.3734 - accuracy: 0.8303 - val_loss: 0.6713 - val_accuracy: 0.6438\n",
            "Epoch 58/100\n",
            "371/371 [==============================] - 1s 2ms/step - loss: 0.3672 - accuracy: 0.8337 - val_loss: 0.5517 - val_accuracy: 0.6901\n",
            "Epoch 59/100\n",
            "371/371 [==============================] - 1s 2ms/step - loss: 0.3690 - accuracy: 0.8350 - val_loss: 0.5322 - val_accuracy: 0.7147\n",
            "Epoch 60/100\n",
            "371/371 [==============================] - 1s 3ms/step - loss: 0.3735 - accuracy: 0.8342 - val_loss: 0.4164 - val_accuracy: 0.7785\n",
            "Epoch 61/100\n",
            "371/371 [==============================] - 1s 3ms/step - loss: 0.3662 - accuracy: 0.8345 - val_loss: 0.6551 - val_accuracy: 0.6435\n",
            "Epoch 62/100\n",
            "371/371 [==============================] - 1s 3ms/step - loss: 0.3688 - accuracy: 0.8356 - val_loss: 0.6586 - val_accuracy: 0.6607\n",
            "Epoch 63/100\n",
            "371/371 [==============================] - 1s 3ms/step - loss: 0.3643 - accuracy: 0.8367 - val_loss: 0.6525 - val_accuracy: 0.6232\n",
            "Epoch 64/100\n",
            "371/371 [==============================] - 1s 2ms/step - loss: 0.3677 - accuracy: 0.8346 - val_loss: 0.6207 - val_accuracy: 0.6796\n",
            "Epoch 65/100\n",
            "371/371 [==============================] - 1s 2ms/step - loss: 0.3665 - accuracy: 0.8345 - val_loss: 0.4874 - val_accuracy: 0.7353\n",
            "Epoch 66/100\n",
            "371/371 [==============================] - 1s 2ms/step - loss: 0.3656 - accuracy: 0.8343 - val_loss: 0.5127 - val_accuracy: 0.7164\n",
            "Epoch 67/100\n",
            "371/371 [==============================] - 1s 2ms/step - loss: 0.3633 - accuracy: 0.8357 - val_loss: 0.5340 - val_accuracy: 0.7265\n",
            "Epoch 68/100\n",
            "371/371 [==============================] - 1s 2ms/step - loss: 0.3643 - accuracy: 0.8358 - val_loss: 0.4490 - val_accuracy: 0.7519\n",
            "Epoch 69/100\n",
            "371/371 [==============================] - 1s 2ms/step - loss: 0.3645 - accuracy: 0.8350 - val_loss: 0.5244 - val_accuracy: 0.7016\n",
            "Epoch 70/100\n",
            "371/371 [==============================] - 1s 2ms/step - loss: 0.3639 - accuracy: 0.8358 - val_loss: 0.6384 - val_accuracy: 0.6428\n",
            "Epoch 71/100\n",
            "371/371 [==============================] - 1s 2ms/step - loss: 0.3619 - accuracy: 0.8370 - val_loss: 0.5055 - val_accuracy: 0.7103\n",
            "Epoch 72/100\n",
            "371/371 [==============================] - 1s 2ms/step - loss: 0.3625 - accuracy: 0.8390 - val_loss: 0.5900 - val_accuracy: 0.6870\n",
            "Epoch 73/100\n",
            "371/371 [==============================] - 1s 2ms/step - loss: 0.3596 - accuracy: 0.8377 - val_loss: 0.5875 - val_accuracy: 0.6742\n",
            "Epoch 74/100\n",
            "371/371 [==============================] - 1s 2ms/step - loss: 0.3601 - accuracy: 0.8391 - val_loss: 0.8077 - val_accuracy: 0.5652\n",
            "Epoch 75/100\n",
            "371/371 [==============================] - 1s 3ms/step - loss: 0.3572 - accuracy: 0.8413 - val_loss: 0.4774 - val_accuracy: 0.7407\n",
            "Epoch 76/100\n",
            "371/371 [==============================] - 1s 3ms/step - loss: 0.3584 - accuracy: 0.8405 - val_loss: 0.6745 - val_accuracy: 0.6577\n",
            "Epoch 77/100\n",
            "371/371 [==============================] - 1s 4ms/step - loss: 0.3593 - accuracy: 0.8383 - val_loss: 0.5209 - val_accuracy: 0.7127\n",
            "Epoch 78/100\n",
            "371/371 [==============================] - 1s 2ms/step - loss: 0.3575 - accuracy: 0.8372 - val_loss: 0.6012 - val_accuracy: 0.6715\n",
            "Epoch 79/100\n",
            "371/371 [==============================] - 1s 2ms/step - loss: 0.3549 - accuracy: 0.8415 - val_loss: 0.4528 - val_accuracy: 0.7481\n",
            "Epoch 80/100\n",
            "371/371 [==============================] - 1s 2ms/step - loss: 0.3562 - accuracy: 0.8382 - val_loss: 0.5626 - val_accuracy: 0.6911\n",
            "Epoch 81/100\n",
            "371/371 [==============================] - 1s 2ms/step - loss: 0.3495 - accuracy: 0.8437 - val_loss: 0.5615 - val_accuracy: 0.6985\n",
            "Epoch 82/100\n",
            "371/371 [==============================] - 1s 2ms/step - loss: 0.3540 - accuracy: 0.8414 - val_loss: 0.5596 - val_accuracy: 0.7053\n",
            "Epoch 83/100\n",
            "371/371 [==============================] - 1s 2ms/step - loss: 0.3511 - accuracy: 0.8433 - val_loss: 0.5015 - val_accuracy: 0.7255\n",
            "Epoch 84/100\n",
            "371/371 [==============================] - 1s 2ms/step - loss: 0.3486 - accuracy: 0.8444 - val_loss: 0.5689 - val_accuracy: 0.6931\n",
            "Epoch 85/100\n",
            "371/371 [==============================] - 1s 2ms/step - loss: 0.3502 - accuracy: 0.8448 - val_loss: 0.4375 - val_accuracy: 0.7593\n",
            "Epoch 86/100\n",
            "371/371 [==============================] - 1s 2ms/step - loss: 0.3498 - accuracy: 0.8418 - val_loss: 0.6712 - val_accuracy: 0.6438\n",
            "Epoch 87/100\n",
            "371/371 [==============================] - 1s 2ms/step - loss: 0.3487 - accuracy: 0.8452 - val_loss: 0.5347 - val_accuracy: 0.7117\n",
            "Epoch 88/100\n",
            "371/371 [==============================] - 1s 2ms/step - loss: 0.3478 - accuracy: 0.8480 - val_loss: 0.5216 - val_accuracy: 0.7157\n",
            "Epoch 89/100\n",
            "371/371 [==============================] - 1s 2ms/step - loss: 0.3493 - accuracy: 0.8458 - val_loss: 0.6302 - val_accuracy: 0.6421\n",
            "Epoch 90/100\n",
            "371/371 [==============================] - 1s 3ms/step - loss: 0.3481 - accuracy: 0.8469 - val_loss: 0.4073 - val_accuracy: 0.7752\n",
            "Epoch 91/100\n",
            "371/371 [==============================] - 1s 4ms/step - loss: 0.3451 - accuracy: 0.8465 - val_loss: 0.6059 - val_accuracy: 0.6776\n",
            "Epoch 92/100\n",
            "371/371 [==============================] - 1s 4ms/step - loss: 0.3457 - accuracy: 0.8470 - val_loss: 0.5214 - val_accuracy: 0.7120\n",
            "Epoch 93/100\n",
            "371/371 [==============================] - 1s 2ms/step - loss: 0.3480 - accuracy: 0.8448 - val_loss: 0.4546 - val_accuracy: 0.7664\n",
            "Epoch 94/100\n",
            "371/371 [==============================] - 1s 2ms/step - loss: 0.3437 - accuracy: 0.8494 - val_loss: 0.5508 - val_accuracy: 0.6968\n",
            "Epoch 95/100\n",
            "371/371 [==============================] - 1s 2ms/step - loss: 0.3438 - accuracy: 0.8473 - val_loss: 0.6288 - val_accuracy: 0.6600\n",
            "Epoch 96/100\n",
            "371/371 [==============================] - 1s 2ms/step - loss: 0.3444 - accuracy: 0.8462 - val_loss: 0.7500 - val_accuracy: 0.5807\n",
            "Epoch 97/100\n",
            "371/371 [==============================] - 1s 2ms/step - loss: 0.3439 - accuracy: 0.8502 - val_loss: 0.5538 - val_accuracy: 0.7127\n",
            "Epoch 98/100\n",
            "371/371 [==============================] - 1s 3ms/step - loss: 0.3450 - accuracy: 0.8480 - val_loss: 0.4940 - val_accuracy: 0.7242\n",
            "Epoch 99/100\n",
            "371/371 [==============================] - 1s 2ms/step - loss: 0.3425 - accuracy: 0.8489 - val_loss: 0.4617 - val_accuracy: 0.7525\n",
            "Epoch 100/100\n",
            "371/371 [==============================] - 1s 2ms/step - loss: 0.3409 - accuracy: 0.8469 - val_loss: 0.4704 - val_accuracy: 0.7529\n",
            "CPU times: user 1min 42s, sys: 4.93 s, total: 1min 47s\n",
            "Wall time: 1min 48s\n"
          ]
        }
      ],
      "source": [
        "%%time\n",
        "history = nn_model.fit(\n",
        "    X_train,y_train,epochs=100,batch_size=32,validation_split=0.2\n",
        ")"
      ]
    },
    {
      "cell_type": "code",
      "execution_count": 1,
      "id": "e363bf47-fc3b-46f8-aa22-9128bdfc6662",
      "metadata": {
        "id": "e363bf47-fc3b-46f8-aa22-9128bdfc6662",
        "outputId": "845f3032-19d9-461d-fda9-b858589b613a",
        "colab": {
          "base_uri": "https://localhost:8080/",
          "height": 178
        }
      },
      "outputs": [
        {
          "output_type": "error",
          "ename": "NameError",
          "evalue": "ignored",
          "traceback": [
            "\u001b[0;31m---------------------------------------------------------------------------\u001b[0m",
            "\u001b[0;31mNameError\u001b[0m                                 Traceback (most recent call last)",
            "\u001b[0;32m<ipython-input-1-873ea138eb1c>\u001b[0m in \u001b[0;36m<cell line: 1>\u001b[0;34m()\u001b[0m\n\u001b[0;32m----> 1\u001b[0;31m \u001b[0mplot_loss_accuracy\u001b[0m\u001b[0;34m(\u001b[0m\u001b[0mhistory\u001b[0m\u001b[0;34m)\u001b[0m\u001b[0;34m\u001b[0m\u001b[0;34m\u001b[0m\u001b[0m\n\u001b[0m",
            "\u001b[0;31mNameError\u001b[0m: name 'plot_loss_accuracy' is not defined"
          ]
        }
      ],
      "source": [
        "plot_loss_accuracy(history)"
      ]
    },
    {
      "cell_type": "code",
      "execution_count": 1,
      "id": "7fc8f392-1c45-4725-a443-c84826c7c863",
      "metadata": {
        "id": "7fc8f392-1c45-4725-a443-c84826c7c863"
      },
      "outputs": [],
      "source": [
        "from tqdm.keras import TqdmCallback\n",
        "def trainmodel(X_train,y_train,num_nodes,dropout_prob,lr,batch_size,epochs):\n",
        "    nn_model = tf.keras.Sequential([\n",
        "    tf.keras.layers.Dense(num_nodes,activation=\"relu\"),\n",
        "    tf.keras.layers.Dropout(dropout_prob),\n",
        "    tf.keras.layers.Dense(num_nodes,activation=\"relu\"),\n",
        "    tf.keras.layers.Dropout(dropout_prob),\n",
        "    tf.keras.layers.Dense(1,activation=\"sigmoid\")\n",
        "\n",
        "    ])\n",
        "\n",
        "    nn_model.compile(optimizer=tf.keras.optimizers.Adam(lr), loss=\"binary_crossentropy\", metrics=['accuracy'] )\n",
        "\n",
        "    history = nn_model.fit(\n",
        "        X_train,y_train,epochs=epochs,batch_size=batch_size,validation_split=0.2,verbose=0, callbacks=[TqdmCallback(verbose=1)]\n",
        "    )\n",
        "    return nn_model, history\n"
      ]
    },
    {
      "cell_type": "code",
      "execution_count": 2,
      "id": "efda6ae0-919b-4305-8b66-79687bb26ce1",
      "metadata": {
        "id": "efda6ae0-919b-4305-8b66-79687bb26ce1",
        "outputId": "22d12aac-daba-4318-902f-464c88307d4a",
        "colab": {
          "base_uri": "https://localhost:8080/",
          "height": 161
        }
      },
      "outputs": [
        {
          "output_type": "error",
          "ename": "NameError",
          "evalue": "ignored",
          "traceback": [
            "\u001b[0;31m---------------------------------------------------------------------------\u001b[0m",
            "\u001b[0;31mNameError\u001b[0m                                 Traceback (most recent call last)",
            "\u001b[0;32m<timed exec>\u001b[0m in \u001b[0;36m<module>\u001b[0;34m\u001b[0m\n",
            "\u001b[0;31mNameError\u001b[0m: name 'X_train' is not defined"
          ]
        }
      ],
      "source": [
        "%%time\n",
        "epochs=10\n",
        "num_nodes,dropout_prob,lr,batch_size = 32,0.1,0.01,32\n",
        "model, history = trainmodel(X_train,y_train,num_nodes,dropout_prob,lr,batch_size,epochs)\n",
        "plot_loss_accuracy(history)"
      ]
    },
    {
      "cell_type": "code",
      "source": [
        "from tqdm import tqdm"
      ],
      "metadata": {
        "id": "vZLc5Phf2qoC"
      },
      "id": "vZLc5Phf2qoC",
      "execution_count": 21,
      "outputs": []
    },
    {
      "cell_type": "code",
      "execution_count": null,
      "id": "6c8eb1db-eb61-4d55-ba1e-c96902504c62",
      "metadata": {
        "id": "6c8eb1db-eb61-4d55-ba1e-c96902504c62",
        "colab": {
          "base_uri": "https://localhost:8080/",
          "height": 208
        },
        "outputId": "44836f90-09c3-49a1-84fb-0e33d4435e3f"
      },
      "outputs": [
        {
          "output_type": "stream",
          "name": "stdout",
          "text": [
            "119/119 [==============================] - 0s 1ms/step - loss: 0.4560 - accuracy: 0.7844\n",
            "119/119 [==============================] - 0s 2ms/step - loss: 0.4443 - accuracy: 0.7994\n",
            "119/119 [==============================] - 0s 2ms/step - loss: 0.4423 - accuracy: 0.7829\n"
          ]
        },
        {
          "output_type": "stream",
          "name": "stderr",
          "text": [
            "Exception ignored in: <function WeakKeyDictionary.__init__.<locals>.remove at 0x7861b0d567a0>\n",
            "Traceback (most recent call last):\n",
            "  File \"/usr/lib/python3.10/weakref.py\", line 370, in remove\n",
            "    def remove(k, selfref=ref(self)):\n",
            "KeyboardInterrupt: \n"
          ]
        },
        {
          "output_type": "stream",
          "name": "stdout",
          "text": [
            "119/119 [==============================] - 0s 1ms/step - loss: 0.4324 - accuracy: 0.8152\n",
            "119/119 [==============================] - 0s 2ms/step - loss: 0.5086 - accuracy: 0.7287\n",
            "119/119 [==============================] - 0s 2ms/step - loss: 0.4949 - accuracy: 0.7831\n"
          ]
        }
      ],
      "source": [
        "%%time\n",
        "least_val_loss = float('inf')\n",
        "least_nn_model = None\n",
        "\n",
        "epochs=5\n",
        "\n",
        "for num_nodes in  [8,16,32]:\n",
        "    for dropout_prob in [0 , 0.2]:\n",
        "        for lr in  [0.01, 0.005, 0.001]:\n",
        "            for batch_size in [32, 64]:\n",
        "                print(f'Batch size: {batch_size} , lr: {lr}, dropout prob: {dropout_prob}, numnode: {num_nodes} ')\n",
        "                model, history = trainmodel(X_train,y_train,num_nodes,dropout_prob,lr,batch_size,epochs)\n",
        "                #plot_loss_accuracy(history)\n",
        "\n",
        "                val_loss = model.evaluate(x_valid,y_valid )[0]\n",
        "                if val_loss < least_val_loss:\n",
        "                    least_val_loss=val_loss\n",
        "                    least_nn_model=model\n",
        "\n",
        "\n",
        "\n",
        "\n",
        "\n",
        "\n"
      ]
    },
    {
      "cell_type": "code",
      "source": [],
      "metadata": {
        "id": "2eokmgxk0ljt"
      },
      "id": "2eokmgxk0ljt",
      "execution_count": null,
      "outputs": []
    }
  ],
  "metadata": {
    "kernelspec": {
      "display_name": "Python 3 (ipykernel)",
      "language": "python",
      "name": "python3"
    },
    "language_info": {
      "codemirror_mode": {
        "name": "ipython",
        "version": 3
      },
      "file_extension": ".py",
      "mimetype": "text/x-python",
      "name": "python",
      "nbconvert_exporter": "python",
      "pygments_lexer": "ipython3",
      "version": "3.11.5"
    },
    "colab": {
      "provenance": [],
      "include_colab_link": true
    }
  },
  "nbformat": 4,
  "nbformat_minor": 5
}