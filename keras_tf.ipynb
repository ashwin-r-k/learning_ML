{
 "cells": [
  {
   "cell_type": "code",
   "execution_count": null,
   "id": "1ba40632-def6-49ce-9b3c-2276c455a2b3",
   "metadata": {},
   "outputs": [],
   "source": [
    "import numpy as np \n",
    "import tensorflow as tf\n",
    "\n",
    "from random import randint\n",
    "\n",
    "from sklearn.utils import shuffle\n",
    "\n",
    "from sklearn.preprocessing import MinMaxScaler\n"
   ]
  },
  {
   "cell_type": "code",
   "execution_count": null,
   "id": "dcc180ad-ac93-4c82-945b-6387acc1f9fe",
   "metadata": {},
   "outputs": [],
   "source": [
    "train_label = []\n",
    "train_sampleas= [] "
   ]
  },
  {
   "cell_type": "code",
   "execution_count": null,
   "id": "8c319d6e-246c-4ed6-b4f9-7391b05b4846",
   "metadata": {},
   "outputs": [],
   "source": [
    "for i in range(50):\n",
    "    ransom_young = randint(13,64)\n",
    "    train_sampleas.append(ransom_young)\n",
    "    train_label.append(1)\n",
    "\n",
    "    random_old = randint(65,100)\n",
    "    train_sampleas.append(random_old)\n",
    "    train_label.append(0)\n",
    "\n",
    "for i in range(1000):\n",
    "    ransom_young = randint(13,64)\n",
    "    train_sampleas.append(ransom_young)\n",
    "    train_label.append(0)\n",
    "\n",
    "    random_old = randint(65,100)\n",
    "    train_sampleas.append(random_old)\n",
    "    train_label.append(1)"
   ]
  },
  {
   "cell_type": "code",
   "execution_count": null,
   "id": "3ed87738-6838-4f24-9d2a-9aa404c2183e",
   "metadata": {},
   "outputs": [],
   "source": [
    "# 13 to 11 age now we have to normalize\n",
    "\n"
   ]
  },
  {
   "cell_type": "code",
   "execution_count": null,
   "id": "f80fafae-6e04-4a9b-8874-0e2c67d22b15",
   "metadata": {},
   "outputs": [],
   "source": [
    "train_label = np.array(train_label)\n",
    "train_sampleas = np.array(train_sampleas)\n",
    "train_label,train_sampleas=shuffle(train_label,train_sampleas)"
   ]
  },
  {
   "cell_type": "code",
   "execution_count": null,
   "id": "2577bf96-790f-4184-b01b-089393c828bd",
   "metadata": {},
   "outputs": [],
   "source": [
    "scaler = MinMaxScaler(feature_range=(0,1))\n",
    "scaled_train_sample = scaler.fit_transform(train_sampleas.reshape(-1,1))"
   ]
  },
  {
   "cell_type": "code",
   "execution_count": null,
   "id": "4642e208-86f7-490f-88ad-3f9063cfe0d4",
   "metadata": {},
   "outputs": [],
   "source": [
    "physics_device = tf.config.experimental.list_physical_devices(\"GPU\")"
   ]
  },
  {
   "cell_type": "code",
   "execution_count": null,
   "id": "33309729-634c-4b37-a375-11f8f3105673",
   "metadata": {},
   "outputs": [],
   "source": [
    "print(f\"Available gpu {physics_device}\")"
   ]
  },
  {
   "cell_type": "code",
   "execution_count": null,
   "id": "0f8c3a96-333e-4bf1-9d36-ca7bcc68fb27",
   "metadata": {},
   "outputs": [],
   "source": [
    "tf.config.experimental.set_memory_growth(physics_device[0],True)"
   ]
  },
  {
   "cell_type": "code",
   "execution_count": null,
   "id": "4d694e90-3983-4183-a624-e005933bbaa7",
   "metadata": {},
   "outputs": [],
   "source": [
    "model = tf.keras.Sequential([\n",
    "    tf.keras.layers.Dense(units=16, input_shape=(1,), activation = \"relu\" ),\n",
    "    tf.keras.layers.Dense(units=32,activation = \"relu\" ),\n",
    "    tf.keras.layers.Dense(units=2, activation = \"softmax\" ),\n",
    "])"
   ]
  },
  {
   "cell_type": "code",
   "execution_count": null,
   "id": "b20e18b6-df23-46e1-9ecc-71ddca201bc2",
   "metadata": {},
   "outputs": [],
   "source": [
    "model.summary()"
   ]
  },
  {
   "cell_type": "code",
   "execution_count": null,
   "id": "33eb0d45-cc64-4381-8123-cbf3c4ddec4c",
   "metadata": {},
   "outputs": [],
   "source": [
    "model.compile( optimizer=tf.keras.optimizers.legacy.Adam(learning_rate = 0.001), \n",
    "              loss = \"sparse_categorical_crossentropy\", \n",
    "              metrics=[\"accuracy\"]\n",
    "             \n",
    "             )"
   ]
  },
  {
   "cell_type": "code",
   "execution_count": null,
   "id": "6bf94706-26c3-4bf6-936c-5f4c0d5f5fdf",
   "metadata": {},
   "outputs": [],
   "source": [
    "model.fit(x = train_sampleas,y=train_label, batch_size=10,epochs=30,shuffle=True,verbose=2)"
   ]
  },
  {
   "cell_type": "code",
   "execution_count": null,
   "id": "ac0c259b-7f56-454b-89bc-2a292c8ac500",
   "metadata": {},
   "outputs": [],
   "source": [
    "model.fit(x = train_sampleas,y=train_label, validation_split=0.2 , batch_size=10,epochs=30,shuffle=True,verbose=2)"
   ]
  },
  {
   "cell_type": "code",
   "execution_count": null,
   "id": "bee6019c-6315-4536-8acd-c202ef4fce86",
   "metadata": {},
   "outputs": [],
   "source": []
  }
 ],
 "metadata": {
  "kernelspec": {
   "display_name": "Python 3 (ipykernel)",
   "language": "python",
   "name": "python3"
  },
  "language_info": {
   "codemirror_mode": {
    "name": "ipython",
    "version": 3
   },
   "file_extension": ".py",
   "mimetype": "text/x-python",
   "name": "python",
   "nbconvert_exporter": "python",
   "pygments_lexer": "ipython3",
   "version": "3.9.18"
  },
  "widgets": {
   "application/vnd.jupyter.widget-state+json": {
    "state": {},
    "version_major": 2,
    "version_minor": 0
   }
  }
 },
 "nbformat": 4,
 "nbformat_minor": 5
}
